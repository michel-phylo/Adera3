{
 "cells": [
  {
   "cell_type": "code",
   "execution_count": 8,
   "metadata": {
    "colab": {
     "base_uri": "https://localhost:8080/"
    },
    "executionInfo": {
     "elapsed": 19924,
     "status": "ok",
     "timestamp": 1720261223539,
     "user": {
      "displayName": "michel mickael",
      "userId": "03847140515933130607"
     },
     "user_tz": -120
    },
    "id": "VFUV79d2U8ga",
    "outputId": "670ed802-3147-4503-c180-d1de48fd0a48"
   },
   "outputs": [],
   "source": [
    "from absl import logging\n",
    "\n",
    "import tensorflow as tf\n",
    "\n",
    "import tensorflow_hub as hub\n",
    "import matplotlib.pyplot as plt\n",
    "import numpy as np\n",
    "import os\n",
    "import pandas as pd\n",
    "import re\n",
    "import seaborn as sns\n",
    "import glob\n",
    "import imageio\n",
    "import matplotlib.pyplot as plt\n",
    "import numpy as np\n",
    "import os\n",
    "import PIL\n",
    "from tensorflow.keras import layers\n",
    "import time\n",
    "from IPython import display\n",
    "from tensorflow.keras.constraints import max_norm\n",
    "\n",
    "import pandas as pd"
   ]
  },
  {
   "cell_type": "code",
   "execution_count": 9,
   "metadata": {
    "colab": {
     "base_uri": "https://localhost:8080/",
     "height": 424
    },
    "executionInfo": {
     "elapsed": 992,
     "status": "ok",
     "timestamp": 1720261224525,
     "user": {
      "displayName": "michel mickael",
      "userId": "03847140515933130607"
     },
     "user_tz": -120
    },
    "id": "ELEJXaeL1Jk4",
    "outputId": "53e94aa3-c15b-49ee-a7cd-511d239ee8cc"
   },
   "outputs": [
    {
     "data": {
      "text/html": [
       "<div>\n",
       "<style scoped>\n",
       "    .dataframe tbody tr th:only-of-type {\n",
       "        vertical-align: middle;\n",
       "    }\n",
       "\n",
       "    .dataframe tbody tr th {\n",
       "        vertical-align: top;\n",
       "    }\n",
       "\n",
       "    .dataframe thead th {\n",
       "        text-align: right;\n",
       "    }\n",
       "</style>\n",
       "<table border=\"1\" class=\"dataframe\">\n",
       "  <thead>\n",
       "    <tr style=\"text-align: right;\">\n",
       "      <th></th>\n",
       "      <th>Gene</th>\n",
       "      <th>CNA</th>\n",
       "      <th>Freq</th>\n",
       "      <th>chromosome</th>\n",
       "      <th>start</th>\n",
       "      <th>end</th>\n",
       "      <th>strand</th>\n",
       "      <th>Cancer_type</th>\n",
       "    </tr>\n",
       "  </thead>\n",
       "  <tbody>\n",
       "    <tr>\n",
       "      <th>0</th>\n",
       "      <td>A2ML1</td>\n",
       "      <td>AMP</td>\n",
       "      <td>6.0</td>\n",
       "      <td>12</td>\n",
       "      <td>8822621.0</td>\n",
       "      <td>8887001.0</td>\n",
       "      <td>77</td>\n",
       "      <td>Testicular_Germ_Cell_Tumors</td>\n",
       "    </tr>\n",
       "    <tr>\n",
       "      <th>1</th>\n",
       "      <td>A4GNT</td>\n",
       "      <td>AMP</td>\n",
       "      <td>6.8</td>\n",
       "      <td>3</td>\n",
       "      <td>138123713.0</td>\n",
       "      <td>138132390.0</td>\n",
       "      <td>3</td>\n",
       "      <td>Cervical_Squamous_Cell_Carcinoma</td>\n",
       "    </tr>\n",
       "    <tr>\n",
       "      <th>2</th>\n",
       "      <td>A4GNT</td>\n",
       "      <td>AMP</td>\n",
       "      <td>6.0</td>\n",
       "      <td>3</td>\n",
       "      <td>138123713.0</td>\n",
       "      <td>138132390.0</td>\n",
       "      <td>3</td>\n",
       "      <td>Esophageal_Adenocarcinoma</td>\n",
       "    </tr>\n",
       "    <tr>\n",
       "      <th>3</th>\n",
       "      <td>AACSP1</td>\n",
       "      <td>AMP</td>\n",
       "      <td>7.3</td>\n",
       "      <td>5</td>\n",
       "      <td>178764861.0</td>\n",
       "      <td>178818435.0</td>\n",
       "      <td>3</td>\n",
       "      <td>Renal_Clear_Cell_Carcinoma</td>\n",
       "    </tr>\n",
       "    <tr>\n",
       "      <th>4</th>\n",
       "      <td>AADAC</td>\n",
       "      <td>AMP</td>\n",
       "      <td>8.2</td>\n",
       "      <td>3</td>\n",
       "      <td>151814073.0</td>\n",
       "      <td>151828488.0</td>\n",
       "      <td>77</td>\n",
       "      <td>Cervical_Squamous_Cell_Carcinoma</td>\n",
       "    </tr>\n",
       "    <tr>\n",
       "      <th>...</th>\n",
       "      <td>...</td>\n",
       "      <td>...</td>\n",
       "      <td>...</td>\n",
       "      <td>...</td>\n",
       "      <td>...</td>\n",
       "      <td>...</td>\n",
       "      <td>...</td>\n",
       "      <td>...</td>\n",
       "    </tr>\n",
       "    <tr>\n",
       "      <th>12979</th>\n",
       "      <td>ZUP1</td>\n",
       "      <td>HOMDEL</td>\n",
       "      <td>8.3</td>\n",
       "      <td>6</td>\n",
       "      <td>116635618.0</td>\n",
       "      <td>116668794.0</td>\n",
       "      <td>3</td>\n",
       "      <td>Diffuse_Large B-Cell_Lymphoma</td>\n",
       "    </tr>\n",
       "    <tr>\n",
       "      <th>12980</th>\n",
       "      <td>ZUP1</td>\n",
       "      <td>HOMDEL</td>\n",
       "      <td>6.5</td>\n",
       "      <td>6</td>\n",
       "      <td>116635618.0</td>\n",
       "      <td>116668794.0</td>\n",
       "      <td>3</td>\n",
       "      <td>Prostate_Adenocarcinoma</td>\n",
       "    </tr>\n",
       "    <tr>\n",
       "      <th>12981</th>\n",
       "      <td>ZUP1</td>\n",
       "      <td>HOMDEL</td>\n",
       "      <td>6.3</td>\n",
       "      <td>6</td>\n",
       "      <td>116635618.0</td>\n",
       "      <td>116668794.0</td>\n",
       "      <td>3</td>\n",
       "      <td>Uveal Melanoma</td>\n",
       "    </tr>\n",
       "    <tr>\n",
       "      <th>12982</th>\n",
       "      <td>ZXDC</td>\n",
       "      <td>AMP</td>\n",
       "      <td>6.1</td>\n",
       "      <td>3</td>\n",
       "      <td>126437601.0</td>\n",
       "      <td>126475891.0</td>\n",
       "      <td>3</td>\n",
       "      <td>Cervical_Squamous_Cell_Carcinoma</td>\n",
       "    </tr>\n",
       "    <tr>\n",
       "      <th>12983</th>\n",
       "      <td>ZYX</td>\n",
       "      <td>AMP</td>\n",
       "      <td>8.0</td>\n",
       "      <td>7</td>\n",
       "      <td>143381295.0</td>\n",
       "      <td>143391111.0</td>\n",
       "      <td>77</td>\n",
       "      <td>Serous_Ovarian_Cancer</td>\n",
       "    </tr>\n",
       "  </tbody>\n",
       "</table>\n",
       "<p>12984 rows × 8 columns</p>\n",
       "</div>"
      ],
      "text/plain": [
       "         Gene     CNA  Freq  chromosome        start          end  strand  \\\n",
       "0       A2ML1     AMP   6.0          12    8822621.0    8887001.0      77   \n",
       "1       A4GNT     AMP   6.8           3  138123713.0  138132390.0       3   \n",
       "2       A4GNT     AMP   6.0           3  138123713.0  138132390.0       3   \n",
       "3      AACSP1     AMP   7.3           5  178764861.0  178818435.0       3   \n",
       "4       AADAC     AMP   8.2           3  151814073.0  151828488.0      77   \n",
       "...       ...     ...   ...         ...          ...          ...     ...   \n",
       "12979    ZUP1  HOMDEL   8.3           6  116635618.0  116668794.0       3   \n",
       "12980    ZUP1  HOMDEL   6.5           6  116635618.0  116668794.0       3   \n",
       "12981    ZUP1  HOMDEL   6.3           6  116635618.0  116668794.0       3   \n",
       "12982    ZXDC     AMP   6.1           3  126437601.0  126475891.0       3   \n",
       "12983     ZYX     AMP   8.0           7  143381295.0  143391111.0      77   \n",
       "\n",
       "                            Cancer_type  \n",
       "0           Testicular_Germ_Cell_Tumors  \n",
       "1      Cervical_Squamous_Cell_Carcinoma  \n",
       "2             Esophageal_Adenocarcinoma  \n",
       "3            Renal_Clear_Cell_Carcinoma  \n",
       "4      Cervical_Squamous_Cell_Carcinoma  \n",
       "...                                 ...  \n",
       "12979     Diffuse_Large B-Cell_Lymphoma  \n",
       "12980           Prostate_Adenocarcinoma  \n",
       "12981                    Uveal Melanoma  \n",
       "12982  Cervical_Squamous_Cell_Carcinoma  \n",
       "12983             Serous_Ovarian_Cancer  \n",
       "\n",
       "[12984 rows x 8 columns]"
      ]
     },
     "execution_count": 9,
     "metadata": {},
     "output_type": "execute_result"
    }
   ],
   "source": [
    "import pandas as pd\n",
    "\n",
    "#  Load and preprocess data\n",
    "\n",
    "first_data_adera=pd.read_table('updated_ADERA_GENES_6500_gene8g.txt',delimiter='\\t',engine='python')\n",
    "#first_data_adera=pd.read_table('updated_ADERA_GENES_6500_gene8g_onely_main.txt',delimiter='\\t',engine='python')\n",
    "#first_data_adera=pd.read_table('updated_ADERA_GENES_6500_geneb_onely_main.txt',delimiter='\\t',engine='python')\n",
    "#first_data_adera=pd.read_table('updated_ADERA_GENES_6500_genec_only_main_14.txt',delimiter='\\t',engine='python')\n",
    "#first_data_adera=pd.read_table('Adera_Complete_data_base_10_july_v1_2_38pm.txt',delimiter=',',engine='python')\n",
    "#first_data_adera=pd.read_table('test1_ADMKR3.txt',delimiter='\\t',engine='python')\n",
    "#first_data_adera=pd.read_table('test2_ADMKR3_LIVERc.txt',delimiter='\\t',engine='python')\n",
    "#first_data_adera=pd.read_table('test1_ADMKR3_COMBINED.txt',delimiter='\\t',engine='python')\n",
    "#first_data_adera=pd.read_table('test1_ADMKR3_COMBINEDc.txt',delimiter='\\t',engine='python')\n",
    "#first_data_adera = first_data_adera.dropna(subset=first_data_adera.columns, how='all')\n",
    "#first_data_adera = first_data_adera.dropna(subset=first_data_adera.columns, how='all')\n",
    "\n",
    "#first_data_adera.columns = ['index','Gene','CNA','Freq','chromosome','start','strand','Cancer_type']\n",
    "first_data_adera\n"
   ]
  },
  {
   "cell_type": "code",
   "execution_count": 10,
   "metadata": {
    "colab": {
     "base_uri": "https://localhost:8080/",
     "height": 424
    },
    "executionInfo": {
     "elapsed": 26,
     "status": "ok",
     "timestamp": 1720261224525,
     "user": {
      "displayName": "michel mickael",
      "userId": "03847140515933130607"
     },
     "user_tz": -120
    },
    "id": "bkzmAyVdw1VC",
    "outputId": "944653da-098a-4fe7-e46f-4e639effad70"
   },
   "outputs": [
    {
     "data": {
      "text/html": [
       "<div>\n",
       "<style scoped>\n",
       "    .dataframe tbody tr th:only-of-type {\n",
       "        vertical-align: middle;\n",
       "    }\n",
       "\n",
       "    .dataframe tbody tr th {\n",
       "        vertical-align: top;\n",
       "    }\n",
       "\n",
       "    .dataframe thead th {\n",
       "        text-align: right;\n",
       "    }\n",
       "</style>\n",
       "<table border=\"1\" class=\"dataframe\">\n",
       "  <thead>\n",
       "    <tr style=\"text-align: right;\">\n",
       "      <th></th>\n",
       "      <th>Gene</th>\n",
       "      <th>CNA</th>\n",
       "      <th>Freq</th>\n",
       "      <th>chromosome</th>\n",
       "      <th>start</th>\n",
       "      <th>end</th>\n",
       "      <th>strand</th>\n",
       "      <th>Cancer_type</th>\n",
       "    </tr>\n",
       "  </thead>\n",
       "  <tbody>\n",
       "    <tr>\n",
       "      <th>0</th>\n",
       "      <td>A2ML1</td>\n",
       "      <td>AMP</td>\n",
       "      <td>6.0</td>\n",
       "      <td>12</td>\n",
       "      <td>8822621.0</td>\n",
       "      <td>8887001.0</td>\n",
       "      <td>77</td>\n",
       "      <td>Testicular_Germ_Cell_Tumors</td>\n",
       "    </tr>\n",
       "    <tr>\n",
       "      <th>1</th>\n",
       "      <td>A4GNT</td>\n",
       "      <td>AMP</td>\n",
       "      <td>6.8</td>\n",
       "      <td>3</td>\n",
       "      <td>138123713.0</td>\n",
       "      <td>138132390.0</td>\n",
       "      <td>3</td>\n",
       "      <td>Cervical_Squamous_Cell_Carcinoma</td>\n",
       "    </tr>\n",
       "    <tr>\n",
       "      <th>2</th>\n",
       "      <td>A4GNT</td>\n",
       "      <td>AMP</td>\n",
       "      <td>6.0</td>\n",
       "      <td>3</td>\n",
       "      <td>138123713.0</td>\n",
       "      <td>138132390.0</td>\n",
       "      <td>3</td>\n",
       "      <td>Esophageal_Adenocarcinoma</td>\n",
       "    </tr>\n",
       "    <tr>\n",
       "      <th>3</th>\n",
       "      <td>AACSP1</td>\n",
       "      <td>AMP</td>\n",
       "      <td>7.3</td>\n",
       "      <td>5</td>\n",
       "      <td>178764861.0</td>\n",
       "      <td>178818435.0</td>\n",
       "      <td>3</td>\n",
       "      <td>Renal_Clear_Cell_Carcinoma</td>\n",
       "    </tr>\n",
       "    <tr>\n",
       "      <th>4</th>\n",
       "      <td>AADAC</td>\n",
       "      <td>AMP</td>\n",
       "      <td>8.2</td>\n",
       "      <td>3</td>\n",
       "      <td>151814073.0</td>\n",
       "      <td>151828488.0</td>\n",
       "      <td>77</td>\n",
       "      <td>Cervical_Squamous_Cell_Carcinoma</td>\n",
       "    </tr>\n",
       "    <tr>\n",
       "      <th>...</th>\n",
       "      <td>...</td>\n",
       "      <td>...</td>\n",
       "      <td>...</td>\n",
       "      <td>...</td>\n",
       "      <td>...</td>\n",
       "      <td>...</td>\n",
       "      <td>...</td>\n",
       "      <td>...</td>\n",
       "    </tr>\n",
       "    <tr>\n",
       "      <th>12979</th>\n",
       "      <td>ZUP1</td>\n",
       "      <td>HOMDEL</td>\n",
       "      <td>8.3</td>\n",
       "      <td>6</td>\n",
       "      <td>116635618.0</td>\n",
       "      <td>116668794.0</td>\n",
       "      <td>3</td>\n",
       "      <td>Diffuse_Large B-Cell_Lymphoma</td>\n",
       "    </tr>\n",
       "    <tr>\n",
       "      <th>12980</th>\n",
       "      <td>ZUP1</td>\n",
       "      <td>HOMDEL</td>\n",
       "      <td>6.5</td>\n",
       "      <td>6</td>\n",
       "      <td>116635618.0</td>\n",
       "      <td>116668794.0</td>\n",
       "      <td>3</td>\n",
       "      <td>Prostate_Adenocarcinoma</td>\n",
       "    </tr>\n",
       "    <tr>\n",
       "      <th>12981</th>\n",
       "      <td>ZUP1</td>\n",
       "      <td>HOMDEL</td>\n",
       "      <td>6.3</td>\n",
       "      <td>6</td>\n",
       "      <td>116635618.0</td>\n",
       "      <td>116668794.0</td>\n",
       "      <td>3</td>\n",
       "      <td>Uveal Melanoma</td>\n",
       "    </tr>\n",
       "    <tr>\n",
       "      <th>12982</th>\n",
       "      <td>ZXDC</td>\n",
       "      <td>AMP</td>\n",
       "      <td>6.1</td>\n",
       "      <td>3</td>\n",
       "      <td>126437601.0</td>\n",
       "      <td>126475891.0</td>\n",
       "      <td>3</td>\n",
       "      <td>Cervical_Squamous_Cell_Carcinoma</td>\n",
       "    </tr>\n",
       "    <tr>\n",
       "      <th>12983</th>\n",
       "      <td>ZYX</td>\n",
       "      <td>AMP</td>\n",
       "      <td>8.0</td>\n",
       "      <td>7</td>\n",
       "      <td>143381295.0</td>\n",
       "      <td>143391111.0</td>\n",
       "      <td>77</td>\n",
       "      <td>Serous_Ovarian_Cancer</td>\n",
       "    </tr>\n",
       "  </tbody>\n",
       "</table>\n",
       "<p>12984 rows × 8 columns</p>\n",
       "</div>"
      ],
      "text/plain": [
       "         Gene     CNA  Freq  chromosome        start          end  strand  \\\n",
       "0       A2ML1     AMP   6.0          12    8822621.0    8887001.0      77   \n",
       "1       A4GNT     AMP   6.8           3  138123713.0  138132390.0       3   \n",
       "2       A4GNT     AMP   6.0           3  138123713.0  138132390.0       3   \n",
       "3      AACSP1     AMP   7.3           5  178764861.0  178818435.0       3   \n",
       "4       AADAC     AMP   8.2           3  151814073.0  151828488.0      77   \n",
       "...       ...     ...   ...         ...          ...          ...     ...   \n",
       "12979    ZUP1  HOMDEL   8.3           6  116635618.0  116668794.0       3   \n",
       "12980    ZUP1  HOMDEL   6.5           6  116635618.0  116668794.0       3   \n",
       "12981    ZUP1  HOMDEL   6.3           6  116635618.0  116668794.0       3   \n",
       "12982    ZXDC     AMP   6.1           3  126437601.0  126475891.0       3   \n",
       "12983     ZYX     AMP   8.0           7  143381295.0  143391111.0      77   \n",
       "\n",
       "                            Cancer_type  \n",
       "0           Testicular_Germ_Cell_Tumors  \n",
       "1      Cervical_Squamous_Cell_Carcinoma  \n",
       "2             Esophageal_Adenocarcinoma  \n",
       "3            Renal_Clear_Cell_Carcinoma  \n",
       "4      Cervical_Squamous_Cell_Carcinoma  \n",
       "...                                 ...  \n",
       "12979     Diffuse_Large B-Cell_Lymphoma  \n",
       "12980           Prostate_Adenocarcinoma  \n",
       "12981                    Uveal Melanoma  \n",
       "12982  Cervical_Squamous_Cell_Carcinoma  \n",
       "12983             Serous_Ovarian_Cancer  \n",
       "\n",
       "[12984 rows x 8 columns]"
      ]
     },
     "execution_count": 10,
     "metadata": {},
     "output_type": "execute_result"
    }
   ],
   "source": [
    "first_data_adera1= first_data_adera.dropna(axis = 0, how ='any')\n",
    "first_data_adera1"
   ]
  },
  {
   "cell_type": "code",
   "execution_count": 11,
   "metadata": {
    "colab": {
     "base_uri": "https://localhost:8080/",
     "height": 424
    },
    "executionInfo": {
     "elapsed": 24,
     "status": "ok",
     "timestamp": 1720261224525,
     "user": {
      "displayName": "michel mickael",
      "userId": "03847140515933130607"
     },
     "user_tz": -120
    },
    "id": "3ocwfHDk4cRa",
    "outputId": "3ed4595a-54f8-4309-c0a5-daf81ae27617"
   },
   "outputs": [
    {
     "data": {
      "text/html": [
       "<div>\n",
       "<style scoped>\n",
       "    .dataframe tbody tr th:only-of-type {\n",
       "        vertical-align: middle;\n",
       "    }\n",
       "\n",
       "    .dataframe tbody tr th {\n",
       "        vertical-align: top;\n",
       "    }\n",
       "\n",
       "    .dataframe thead th {\n",
       "        text-align: right;\n",
       "    }\n",
       "</style>\n",
       "<table border=\"1\" class=\"dataframe\">\n",
       "  <thead>\n",
       "    <tr style=\"text-align: right;\">\n",
       "      <th></th>\n",
       "      <th>Gene</th>\n",
       "      <th>CNA</th>\n",
       "      <th>Freq</th>\n",
       "      <th>chromosome</th>\n",
       "      <th>start</th>\n",
       "      <th>end</th>\n",
       "      <th>strand</th>\n",
       "      <th>Cancer_type</th>\n",
       "    </tr>\n",
       "  </thead>\n",
       "  <tbody>\n",
       "    <tr>\n",
       "      <th>0</th>\n",
       "      <td>A2ML1</td>\n",
       "      <td>AMP</td>\n",
       "      <td>6.0</td>\n",
       "      <td>12</td>\n",
       "      <td>8822621.0</td>\n",
       "      <td>8887001.0</td>\n",
       "      <td>77</td>\n",
       "      <td>Testicular_Germ_Cell_Tumors</td>\n",
       "    </tr>\n",
       "    <tr>\n",
       "      <th>1</th>\n",
       "      <td>A4GNT</td>\n",
       "      <td>AMP</td>\n",
       "      <td>6.8</td>\n",
       "      <td>3</td>\n",
       "      <td>138123713.0</td>\n",
       "      <td>138132390.0</td>\n",
       "      <td>3</td>\n",
       "      <td>Cervical_Squamous_Cell_Carcinoma</td>\n",
       "    </tr>\n",
       "    <tr>\n",
       "      <th>2</th>\n",
       "      <td>A4GNT</td>\n",
       "      <td>AMP</td>\n",
       "      <td>6.0</td>\n",
       "      <td>3</td>\n",
       "      <td>138123713.0</td>\n",
       "      <td>138132390.0</td>\n",
       "      <td>3</td>\n",
       "      <td>Esophageal_Adenocarcinoma</td>\n",
       "    </tr>\n",
       "    <tr>\n",
       "      <th>3</th>\n",
       "      <td>AACSP1</td>\n",
       "      <td>AMP</td>\n",
       "      <td>7.3</td>\n",
       "      <td>5</td>\n",
       "      <td>178764861.0</td>\n",
       "      <td>178818435.0</td>\n",
       "      <td>3</td>\n",
       "      <td>Renal_Clear_Cell_Carcinoma</td>\n",
       "    </tr>\n",
       "    <tr>\n",
       "      <th>4</th>\n",
       "      <td>AADAC</td>\n",
       "      <td>AMP</td>\n",
       "      <td>8.2</td>\n",
       "      <td>3</td>\n",
       "      <td>151814073.0</td>\n",
       "      <td>151828488.0</td>\n",
       "      <td>77</td>\n",
       "      <td>Cervical_Squamous_Cell_Carcinoma</td>\n",
       "    </tr>\n",
       "    <tr>\n",
       "      <th>...</th>\n",
       "      <td>...</td>\n",
       "      <td>...</td>\n",
       "      <td>...</td>\n",
       "      <td>...</td>\n",
       "      <td>...</td>\n",
       "      <td>...</td>\n",
       "      <td>...</td>\n",
       "      <td>...</td>\n",
       "    </tr>\n",
       "    <tr>\n",
       "      <th>12979</th>\n",
       "      <td>ZUP1</td>\n",
       "      <td>HOMDEL</td>\n",
       "      <td>8.3</td>\n",
       "      <td>6</td>\n",
       "      <td>116635618.0</td>\n",
       "      <td>116668794.0</td>\n",
       "      <td>3</td>\n",
       "      <td>Diffuse_Large B-Cell_Lymphoma</td>\n",
       "    </tr>\n",
       "    <tr>\n",
       "      <th>12980</th>\n",
       "      <td>ZUP1</td>\n",
       "      <td>HOMDEL</td>\n",
       "      <td>6.5</td>\n",
       "      <td>6</td>\n",
       "      <td>116635618.0</td>\n",
       "      <td>116668794.0</td>\n",
       "      <td>3</td>\n",
       "      <td>Prostate_Adenocarcinoma</td>\n",
       "    </tr>\n",
       "    <tr>\n",
       "      <th>12981</th>\n",
       "      <td>ZUP1</td>\n",
       "      <td>HOMDEL</td>\n",
       "      <td>6.3</td>\n",
       "      <td>6</td>\n",
       "      <td>116635618.0</td>\n",
       "      <td>116668794.0</td>\n",
       "      <td>3</td>\n",
       "      <td>Uveal Melanoma</td>\n",
       "    </tr>\n",
       "    <tr>\n",
       "      <th>12982</th>\n",
       "      <td>ZXDC</td>\n",
       "      <td>AMP</td>\n",
       "      <td>6.1</td>\n",
       "      <td>3</td>\n",
       "      <td>126437601.0</td>\n",
       "      <td>126475891.0</td>\n",
       "      <td>3</td>\n",
       "      <td>Cervical_Squamous_Cell_Carcinoma</td>\n",
       "    </tr>\n",
       "    <tr>\n",
       "      <th>12983</th>\n",
       "      <td>ZYX</td>\n",
       "      <td>AMP</td>\n",
       "      <td>8.0</td>\n",
       "      <td>7</td>\n",
       "      <td>143381295.0</td>\n",
       "      <td>143391111.0</td>\n",
       "      <td>77</td>\n",
       "      <td>Serous_Ovarian_Cancer</td>\n",
       "    </tr>\n",
       "  </tbody>\n",
       "</table>\n",
       "<p>12984 rows × 8 columns</p>\n",
       "</div>"
      ],
      "text/plain": [
       "         Gene     CNA  Freq  chromosome        start          end  strand  \\\n",
       "0       A2ML1     AMP   6.0          12    8822621.0    8887001.0      77   \n",
       "1       A4GNT     AMP   6.8           3  138123713.0  138132390.0       3   \n",
       "2       A4GNT     AMP   6.0           3  138123713.0  138132390.0       3   \n",
       "3      AACSP1     AMP   7.3           5  178764861.0  178818435.0       3   \n",
       "4       AADAC     AMP   8.2           3  151814073.0  151828488.0      77   \n",
       "...       ...     ...   ...         ...          ...          ...     ...   \n",
       "12979    ZUP1  HOMDEL   8.3           6  116635618.0  116668794.0       3   \n",
       "12980    ZUP1  HOMDEL   6.5           6  116635618.0  116668794.0       3   \n",
       "12981    ZUP1  HOMDEL   6.3           6  116635618.0  116668794.0       3   \n",
       "12982    ZXDC     AMP   6.1           3  126437601.0  126475891.0       3   \n",
       "12983     ZYX     AMP   8.0           7  143381295.0  143391111.0      77   \n",
       "\n",
       "                            Cancer_type  \n",
       "0           Testicular_Germ_Cell_Tumors  \n",
       "1      Cervical_Squamous_Cell_Carcinoma  \n",
       "2             Esophageal_Adenocarcinoma  \n",
       "3            Renal_Clear_Cell_Carcinoma  \n",
       "4      Cervical_Squamous_Cell_Carcinoma  \n",
       "...                                 ...  \n",
       "12979     Diffuse_Large B-Cell_Lymphoma  \n",
       "12980           Prostate_Adenocarcinoma  \n",
       "12981                    Uveal Melanoma  \n",
       "12982  Cervical_Squamous_Cell_Carcinoma  \n",
       "12983             Serous_Ovarian_Cancer  \n",
       "\n",
       "[12984 rows x 8 columns]"
      ]
     },
     "execution_count": 11,
     "metadata": {},
     "output_type": "execute_result"
    }
   ],
   "source": [
    "#first_data_adera2 = first_data_adera1.sort_values(by=['Freq'], ascending=[ False])\n",
    "#first_data_adera3 = first_data_adera1.sort_values(by=['Gene', 'Is Cancer Gene (source: OncoKB)', 'Freq'], ascending=[True, True, False])\n",
    "first_data_adera3 = first_data_adera1.sort_values(by=['Gene', 'Cancer_type', 'Freq'], ascending=[True, True, False])\n",
    "first_data_adera3"
   ]
  },
  {
   "cell_type": "code",
   "execution_count": 12,
   "metadata": {
    "executionInfo": {
     "elapsed": 22,
     "status": "ok",
     "timestamp": 1720261224526,
     "user": {
      "displayName": "michel mickael",
      "userId": "03847140515933130607"
     },
     "user_tz": -120
    },
    "id": "TUWntf9B4-w4"
   },
   "outputs": [],
   "source": [
    "first_data_adera4 = first_data_adera3.drop_duplicates(subset=['Gene'], keep='first')"
   ]
  },
  {
   "cell_type": "code",
   "execution_count": 13,
   "metadata": {
    "colab": {
     "base_uri": "https://localhost:8080/",
     "height": 424
    },
    "executionInfo": {
     "elapsed": 21,
     "status": "ok",
     "timestamp": 1720261224526,
     "user": {
      "displayName": "michel mickael",
      "userId": "03847140515933130607"
     },
     "user_tz": -120
    },
    "id": "u2O7KGua5FUa",
    "outputId": "9265425e-e91e-4a67-d78b-8cacbc890e73"
   },
   "outputs": [
    {
     "data": {
      "text/html": [
       "<div>\n",
       "<style scoped>\n",
       "    .dataframe tbody tr th:only-of-type {\n",
       "        vertical-align: middle;\n",
       "    }\n",
       "\n",
       "    .dataframe tbody tr th {\n",
       "        vertical-align: top;\n",
       "    }\n",
       "\n",
       "    .dataframe thead th {\n",
       "        text-align: right;\n",
       "    }\n",
       "</style>\n",
       "<table border=\"1\" class=\"dataframe\">\n",
       "  <thead>\n",
       "    <tr style=\"text-align: right;\">\n",
       "      <th></th>\n",
       "      <th>Gene</th>\n",
       "      <th>CNA</th>\n",
       "      <th>Freq</th>\n",
       "      <th>chromosome</th>\n",
       "      <th>start</th>\n",
       "      <th>end</th>\n",
       "      <th>strand</th>\n",
       "      <th>Cancer_type</th>\n",
       "    </tr>\n",
       "  </thead>\n",
       "  <tbody>\n",
       "    <tr>\n",
       "      <th>0</th>\n",
       "      <td>A2ML1</td>\n",
       "      <td>AMP</td>\n",
       "      <td>6.0</td>\n",
       "      <td>12</td>\n",
       "      <td>8822621.0</td>\n",
       "      <td>8887001.0</td>\n",
       "      <td>77</td>\n",
       "      <td>Testicular_Germ_Cell_Tumors</td>\n",
       "    </tr>\n",
       "    <tr>\n",
       "      <th>1</th>\n",
       "      <td>A4GNT</td>\n",
       "      <td>AMP</td>\n",
       "      <td>6.8</td>\n",
       "      <td>3</td>\n",
       "      <td>138123713.0</td>\n",
       "      <td>138132390.0</td>\n",
       "      <td>3</td>\n",
       "      <td>Cervical_Squamous_Cell_Carcinoma</td>\n",
       "    </tr>\n",
       "    <tr>\n",
       "      <th>3</th>\n",
       "      <td>AACSP1</td>\n",
       "      <td>AMP</td>\n",
       "      <td>7.3</td>\n",
       "      <td>5</td>\n",
       "      <td>178764861.0</td>\n",
       "      <td>178818435.0</td>\n",
       "      <td>3</td>\n",
       "      <td>Renal_Clear_Cell_Carcinoma</td>\n",
       "    </tr>\n",
       "    <tr>\n",
       "      <th>4</th>\n",
       "      <td>AADAC</td>\n",
       "      <td>AMP</td>\n",
       "      <td>8.2</td>\n",
       "      <td>3</td>\n",
       "      <td>151814073.0</td>\n",
       "      <td>151828488.0</td>\n",
       "      <td>77</td>\n",
       "      <td>Cervical_Squamous_Cell_Carcinoma</td>\n",
       "    </tr>\n",
       "    <tr>\n",
       "      <th>7</th>\n",
       "      <td>AADACL2</td>\n",
       "      <td>AMP</td>\n",
       "      <td>8.2</td>\n",
       "      <td>3</td>\n",
       "      <td>151733916.0</td>\n",
       "      <td>151761339.0</td>\n",
       "      <td>77</td>\n",
       "      <td>Cervical_Squamous_Cell_Carcinoma</td>\n",
       "    </tr>\n",
       "    <tr>\n",
       "      <th>...</th>\n",
       "      <td>...</td>\n",
       "      <td>...</td>\n",
       "      <td>...</td>\n",
       "      <td>...</td>\n",
       "      <td>...</td>\n",
       "      <td>...</td>\n",
       "      <td>...</td>\n",
       "      <td>...</td>\n",
       "    </tr>\n",
       "    <tr>\n",
       "      <th>12977</th>\n",
       "      <td>ZSWIM4</td>\n",
       "      <td>AMP</td>\n",
       "      <td>12.1</td>\n",
       "      <td>19</td>\n",
       "      <td>13795443.0</td>\n",
       "      <td>13832254.0</td>\n",
       "      <td>77</td>\n",
       "      <td>Serous_Ovarian_Cancer</td>\n",
       "    </tr>\n",
       "    <tr>\n",
       "      <th>12978</th>\n",
       "      <td>ZSWIM7</td>\n",
       "      <td>AMP</td>\n",
       "      <td>9.1</td>\n",
       "      <td>17</td>\n",
       "      <td>15976560.0</td>\n",
       "      <td>15999717.0</td>\n",
       "      <td>3</td>\n",
       "      <td>Sarcoma</td>\n",
       "    </tr>\n",
       "    <tr>\n",
       "      <th>12979</th>\n",
       "      <td>ZUP1</td>\n",
       "      <td>HOMDEL</td>\n",
       "      <td>8.3</td>\n",
       "      <td>6</td>\n",
       "      <td>116635618.0</td>\n",
       "      <td>116668794.0</td>\n",
       "      <td>3</td>\n",
       "      <td>Diffuse_Large B-Cell_Lymphoma</td>\n",
       "    </tr>\n",
       "    <tr>\n",
       "      <th>12982</th>\n",
       "      <td>ZXDC</td>\n",
       "      <td>AMP</td>\n",
       "      <td>6.1</td>\n",
       "      <td>3</td>\n",
       "      <td>126437601.0</td>\n",
       "      <td>126475891.0</td>\n",
       "      <td>3</td>\n",
       "      <td>Cervical_Squamous_Cell_Carcinoma</td>\n",
       "    </tr>\n",
       "    <tr>\n",
       "      <th>12983</th>\n",
       "      <td>ZYX</td>\n",
       "      <td>AMP</td>\n",
       "      <td>8.0</td>\n",
       "      <td>7</td>\n",
       "      <td>143381295.0</td>\n",
       "      <td>143391111.0</td>\n",
       "      <td>77</td>\n",
       "      <td>Serous_Ovarian_Cancer</td>\n",
       "    </tr>\n",
       "  </tbody>\n",
       "</table>\n",
       "<p>7058 rows × 8 columns</p>\n",
       "</div>"
      ],
      "text/plain": [
       "          Gene     CNA  Freq  chromosome        start          end  strand  \\\n",
       "0        A2ML1     AMP   6.0          12    8822621.0    8887001.0      77   \n",
       "1        A4GNT     AMP   6.8           3  138123713.0  138132390.0       3   \n",
       "3       AACSP1     AMP   7.3           5  178764861.0  178818435.0       3   \n",
       "4        AADAC     AMP   8.2           3  151814073.0  151828488.0      77   \n",
       "7      AADACL2     AMP   8.2           3  151733916.0  151761339.0      77   \n",
       "...        ...     ...   ...         ...          ...          ...     ...   \n",
       "12977   ZSWIM4     AMP  12.1          19   13795443.0   13832254.0      77   \n",
       "12978   ZSWIM7     AMP   9.1          17   15976560.0   15999717.0       3   \n",
       "12979     ZUP1  HOMDEL   8.3           6  116635618.0  116668794.0       3   \n",
       "12982     ZXDC     AMP   6.1           3  126437601.0  126475891.0       3   \n",
       "12983      ZYX     AMP   8.0           7  143381295.0  143391111.0      77   \n",
       "\n",
       "                            Cancer_type  \n",
       "0           Testicular_Germ_Cell_Tumors  \n",
       "1      Cervical_Squamous_Cell_Carcinoma  \n",
       "3            Renal_Clear_Cell_Carcinoma  \n",
       "4      Cervical_Squamous_Cell_Carcinoma  \n",
       "7      Cervical_Squamous_Cell_Carcinoma  \n",
       "...                                 ...  \n",
       "12977             Serous_Ovarian_Cancer  \n",
       "12978                           Sarcoma  \n",
       "12979     Diffuse_Large B-Cell_Lymphoma  \n",
       "12982  Cervical_Squamous_Cell_Carcinoma  \n",
       "12983             Serous_Ovarian_Cancer  \n",
       "\n",
       "[7058 rows x 8 columns]"
      ]
     },
     "execution_count": 13,
     "metadata": {},
     "output_type": "execute_result"
    }
   ],
   "source": [
    "first_data_adera4"
   ]
  },
  {
   "cell_type": "code",
   "execution_count": 14,
   "metadata": {
    "executionInfo": {
     "elapsed": 428,
     "status": "ok",
     "timestamp": 1720265761790,
     "user": {
      "displayName": "michel mickael",
      "userId": "03847140515933130607"
     },
     "user_tz": -120
    },
    "id": "QAcIRInXsn4r"
   },
   "outputs": [],
   "source": [
    "import tensorflow.keras.utils\n",
    "from tensorflow.keras.utils import to_categorical\n",
    "from sklearn.preprocessing import LabelEncoder\n",
    "\n",
    "# Encode and normalize data\n",
    "\n",
    "encoder = LabelEncoder()\n",
    "encoder.fit(first_data_adera4[\"CNA\"])\n",
    "Adera_CNA= encoder.transform(first_data_adera4[\"CNA\"])\n",
    "\n",
    "Adera_CNA1= to_categorical(Adera_CNA,num_classes=2)\n"
   ]
  },
  {
   "cell_type": "code",
   "execution_count": 15,
   "metadata": {
    "colab": {
     "base_uri": "https://localhost:8080/"
    },
    "executionInfo": {
     "elapsed": 414,
     "status": "ok",
     "timestamp": 1720265765909,
     "user": {
      "displayName": "michel mickael",
      "userId": "03847140515933130607"
     },
     "user_tz": -120
    },
    "id": "oi3uz9kS0buc",
    "outputId": "610d0058-7c4a-4e71-e68e-59111c84c66e"
   },
   "outputs": [
    {
     "data": {
      "text/plain": [
       "array(['AMP', 'HOMDEL'], dtype=object)"
      ]
     },
     "execution_count": 15,
     "metadata": {},
     "output_type": "execute_result"
    }
   ],
   "source": [
    "first_data_adera4[\"CNA\"].unique()"
   ]
  },
  {
   "cell_type": "code",
   "execution_count": 16,
   "metadata": {
    "colab": {
     "base_uri": "https://localhost:8080/"
    },
    "executionInfo": {
     "elapsed": 6,
     "status": "ok",
     "timestamp": 1720265767438,
     "user": {
      "displayName": "michel mickael",
      "userId": "03847140515933130607"
     },
     "user_tz": -120
    },
    "id": "LNtieT_etEXA",
    "outputId": "27dc371c-ad2e-4bef-ad01-181ba366cb88"
   },
   "outputs": [
    {
     "name": "stdout",
     "output_type": "stream",
     "text": [
      "(7058, 2)\n"
     ]
    },
    {
     "data": {
      "text/plain": [
       "(7058, 2)"
      ]
     },
     "execution_count": 16,
     "metadata": {},
     "output_type": "execute_result"
    }
   ],
   "source": [
    "#type(first_data_adera[\"Freq\"])\n",
    "#Adera_CNA1=first_data_adera['CNA']\n",
    "print(Adera_CNA1.shape) #rember to update because there are genes written in one or more diseases.\n",
    "Adera_CNA1\n",
    "type(first_data_adera4 ['CNA'])\n",
    "\n",
    "#Input_net_Adera = np.concatenate((Adera_freq.T,Adera_CNA1), axis=None)\n",
    "#Input_net_Adera1=Input_net_Adera.reshape(5,6918).T\n",
    "\n",
    "Input_net_Adera1=Adera_CNA1\n",
    "Input_net_Adera1.shape # number of samples,number of 4 states"
   ]
  },
  {
   "cell_type": "code",
   "execution_count": 17,
   "metadata": {
    "executionInfo": {
     "elapsed": 2,
     "status": "ok",
     "timestamp": 1720265770656,
     "user": {
      "displayName": "michel mickael",
      "userId": "03847140515933130607"
     },
     "user_tz": -120
    },
    "id": "Y42eFZbmU5Lf"
   },
   "outputs": [],
   "source": [
    "\n",
    "Adera_chromosome=first_data_adera4['chromosome']\n",
    "Adera_chromosome1=np.array(Adera_chromosome)\n",
    "Adera_chromosome2=Adera_chromosome1.reshape(Input_net_Adera1.shape[0],1)\n",
    "#print(Adera_chromosome2.shape)\n",
    "\n",
    "Adera_start=first_data_adera4['start']\n",
    "Adera_start1=np.array(Adera_start)\n",
    "Adera_start2=Adera_start1.reshape(Input_net_Adera1.shape[0],1)\n",
    "\n",
    "Adera_end=first_data_adera4['end']\n",
    "Adera_end1=np.array(Adera_end)\n",
    "Adera_end2=Adera_end1.reshape(Input_net_Adera1.shape[0],1)\n",
    "\n",
    "Adera_strand=first_data_adera4['strand']\n",
    "Adera_strand1=np.array(Adera_strand)\n",
    "Adera_strand2=Adera_strand1.reshape(Input_net_Adera1.shape[0],1)\n",
    "\n",
    "Adera_freq=first_data_adera4['Freq']\n",
    "Adera_freq1=np.array(Adera_freq)\n",
    "Adera_freq2=Adera_freq1.reshape(Input_net_Adera1.shape[0],1)"
   ]
  },
  {
   "cell_type": "code",
   "execution_count": 18,
   "metadata": {
    "colab": {
     "base_uri": "https://localhost:8080/"
    },
    "executionInfo": {
     "elapsed": 5,
     "status": "ok",
     "timestamp": 1720265774253,
     "user": {
      "displayName": "michel mickael",
      "userId": "03847140515933130607"
     },
     "user_tz": -120
    },
    "id": "dnfPlH7FfD67",
    "outputId": "b1033ef3-cc52-4624-918d-bf0ff5da3532"
   },
   "outputs": [
    {
     "data": {
      "text/plain": [
       "(7058, 1)"
      ]
     },
     "execution_count": 18,
     "metadata": {},
     "output_type": "execute_result"
    }
   ],
   "source": [
    "#normalise chromsome numbers\n",
    "from sklearn.preprocessing import MinMaxScaler\n",
    "import numpy as np\n",
    "Adera_chromosome3 = Adera_chromosome2.reshape(-1, 1)\n",
    "scaler = MinMaxScaler()\n",
    "Adera_chromosome4= scaler.fit_transform(Adera_chromosome3)\n",
    "\n",
    "\n",
    "\n",
    "#####normalise start values\n",
    "from sklearn.preprocessing import MinMaxScaler\n",
    "import numpy as np\n",
    "Adera_start3 = Adera_start2.reshape(-1, 1)\n",
    "scaler = MinMaxScaler()\n",
    "Adera_start4= scaler.fit_transform(Adera_start3)\n",
    "\n",
    "####normalise end values\n",
    "from sklearn.preprocessing import MinMaxScaler\n",
    "import numpy as np\n",
    "Adera_end3 = Adera_end2.reshape(-1, 1)\n",
    "scaler = MinMaxScaler()\n",
    "Adera_end4= scaler.fit_transform(Adera_end3)\n",
    "\n",
    "######normalise stand\n",
    "from sklearn.preprocessing import MinMaxScaler\n",
    "import numpy as np\n",
    "Adera_strand3 = Adera_strand2.reshape(-1, 1)\n",
    "scaler = MinMaxScaler()\n",
    "Adera_strand4= scaler.fit_transform(Adera_strand3)\n",
    "Adera_chromosome4.shape\n"
   ]
  },
  {
   "cell_type": "code",
   "execution_count": 19,
   "metadata": {
    "executionInfo": {
     "elapsed": 348,
     "status": "ok",
     "timestamp": 1720250571294,
     "user": {
      "displayName": "michel mickael",
      "userId": "03847140515933130607"
     },
     "user_tz": -120
    },
    "id": "4ArR3WhXumk8"
   },
   "outputs": [],
   "source": [
    "#cancer_type_column = 'Cancer_type'\n",
    "\n",
    "# Get unique cancer types in the dataset\n",
    "#unique_cancer_types = first_data_adera4[cancer_type_column].unique()\n",
    "\n",
    "# Count the rows for each cancer type\n",
    "#for cancer_type in unique_cancer_types:\n",
    "  #  cancer_type_data =first_data_adera4[first_data_adera4[cancer_type_column] == cancer_type]\n",
    "   # num_rows = len(cancer_type_data)\n",
    "   # print(\"Number of rows in\", cancer_type, \":\", num_rows)"
   ]
  },
  {
   "cell_type": "code",
   "execution_count": 20,
   "metadata": {
    "colab": {
     "base_uri": "https://localhost:8080/"
    },
    "executionInfo": {
     "elapsed": 400,
     "status": "ok",
     "timestamp": 1720265778206,
     "user": {
      "displayName": "michel mickael",
      "userId": "03847140515933130607"
     },
     "user_tz": -120
    },
    "id": "12mDFaDTfe0C",
    "outputId": "721b6925-f7ec-47a9-85ab-c0770c4064b6"
   },
   "outputs": [
    {
     "data": {
      "text/plain": [
       "20"
      ]
     },
     "execution_count": 20,
     "metadata": {},
     "output_type": "execute_result"
    }
   ],
   "source": [
    "#k1=first_data_adera4[\"Is Cancer Gene (source: OncoKB)\"].unique()\n",
    "k1=first_data_adera4[\"Cancer_type\"].unique()\n",
    "\n",
    "k1.shape[0]"
   ]
  },
  {
   "cell_type": "code",
   "execution_count": 21,
   "metadata": {
    "colab": {
     "base_uri": "https://localhost:8080/"
    },
    "executionInfo": {
     "elapsed": 6,
     "status": "ok",
     "timestamp": 1720265781486,
     "user": {
      "displayName": "michel mickael",
      "userId": "03847140515933130607"
     },
     "user_tz": -120
    },
    "id": "YEByBh7BVmAF",
    "outputId": "75e50f16-1ced-4c6c-eaba-b60bf905e6fc"
   },
   "outputs": [
    {
     "name": "stdout",
     "output_type": "stream",
     "text": [
      "(7058, 2)\n"
     ]
    },
    {
     "data": {
      "text/plain": [
       "(7058, 6)"
      ]
     },
     "execution_count": 21,
     "metadata": {},
     "output_type": "execute_result"
    }
   ],
   "source": [
    "#Input_net_Adera2 = np.concatenate((Input_net_Adera1,adera_matrix), axis=1)\n",
    "print(Adera_CNA1.shape)\n",
    "#Input_net_Adera2 = np.concatenate((Input_net_Adera1,Adera_chromosome2,Adera_start2,Adera_end2,Adera_strand2,Adera_freq2), axis=1)\n",
    "Input_net_Adera2 = np.concatenate((Input_net_Adera1,Adera_chromosome4,Adera_start4,Adera_end4,Adera_strand4), axis=1)\n",
    "#Input_net_Adera2 = np.concatenate((Input_net_Adera1,Adera_start2,Adera_end2), axis=1)\n",
    "#Input_net_Adera2=adera_matrix\n",
    "Input_net_Adera2.shape"
   ]
  },
  {
   "cell_type": "code",
   "execution_count": 22,
   "metadata": {
    "colab": {
     "base_uri": "https://localhost:8080/"
    },
    "executionInfo": {
     "elapsed": 484,
     "status": "ok",
     "timestamp": 1720265787896,
     "user": {
      "displayName": "michel mickael",
      "userId": "03847140515933130607"
     },
     "user_tz": -120
    },
    "id": "agHDRxqSNUR7",
    "outputId": "6b1f6dc2-6dfb-40ab-9ceb-7e2ab6e8bba0"
   },
   "outputs": [
    {
     "name": "stderr",
     "output_type": "stream",
     "text": [
      "c:\\Users\\hp\\AppData\\Local\\Programs\\Python\\Python38\\lib\\site-packages\\sklearn\\preprocessing\\_label.py:97: DataConversionWarning: A column-vector y was passed when a 1d array was expected. Please change the shape of y to (n_samples, ), for example using ravel().\n",
      "  y = column_or_1d(y, warn=True)\n",
      "c:\\Users\\hp\\AppData\\Local\\Programs\\Python\\Python38\\lib\\site-packages\\sklearn\\preprocessing\\_label.py:132: DataConversionWarning: A column-vector y was passed when a 1d array was expected. Please change the shape of y to (n_samples, ), for example using ravel().\n",
      "  y = column_or_1d(y, dtype=self.classes_.dtype, warn=True)\n"
     ]
    },
    {
     "data": {
      "text/plain": [
       "(7058, 20)"
      ]
     },
     "execution_count": 22,
     "metadata": {},
     "output_type": "execute_result"
    }
   ],
   "source": [
    "#Output_net_Adera=first_data_adera4[[\"Is Cancer Gene (source: OncoKB)\"]]\n",
    "Output_net_Adera=first_data_adera4[[\"Cancer_type\"]]\n",
    "\n",
    "Output_net_Adera\n",
    "\n",
    "first_data_adera4\n",
    "import tensorflow.keras.utils\n",
    "from tensorflow.keras.utils import to_categorical\n",
    "from sklearn.preprocessing import LabelEncoder\n",
    "from sklearn.preprocessing import LabelEncoder\n",
    "#encoder = LabelEncoder()\n",
    "#encoder.fit(Output_net_Adera)\n",
    "#Output_net_Adera1 = encoder.transform(Output_net_Adera)\n",
    "\n",
    "#Output_net_Adera1 = np_utils.to_categorical(Output_net_Adera1,num_classes=3)\n",
    "#Output_net_Adera1\n",
    "\n",
    "\n",
    "\n",
    "encoder = LabelEncoder()\n",
    "#encoder.fit(first_data_adera4[[\"Is Cancer Gene (source: OncoKB)\"]])\n",
    "encoder.fit(first_data_adera4[[\"Cancer_type\"]])\n",
    "\n",
    "#Output_net_Adera1 = encoder.transform(first_data_adera4[[\"Is Cancer Gene (source: OncoKB)\"]])\n",
    "Output_net_Adera1 = encoder.transform(first_data_adera4[[\"Cancer_type\"]])\n",
    "\n",
    "Output_net_Adera1.shape\n",
    "\n",
    "Output_net_Adera2=to_categorical(Output_net_Adera1 ,num_classes=k1.shape[0])\n",
    "Output_net_Adera2.shape"
   ]
  },
  {
   "cell_type": "code",
   "execution_count": 23,
   "metadata": {
    "colab": {
     "base_uri": "https://localhost:8080/"
    },
    "executionInfo": {
     "elapsed": 418,
     "status": "ok",
     "timestamp": 1720265791465,
     "user": {
      "displayName": "michel mickael",
      "userId": "03847140515933130607"
     },
     "user_tz": -120
    },
    "id": "zKCJi_OyBVlP",
    "outputId": "2f5abe08-005b-41af-e6a7-a0f0b8bb8944"
   },
   "outputs": [
    {
     "data": {
      "text/plain": [
       "array([[0., 0., 0., ..., 0., 1., 0.],\n",
       "       [0., 0., 0., ..., 0., 0., 0.],\n",
       "       [0., 0., 0., ..., 0., 0., 0.],\n",
       "       ...,\n",
       "       [0., 0., 0., ..., 0., 0., 0.],\n",
       "       [0., 0., 0., ..., 0., 0., 0.],\n",
       "       [0., 0., 0., ..., 0., 0., 0.]], dtype=float32)"
      ]
     },
     "execution_count": 23,
     "metadata": {},
     "output_type": "execute_result"
    }
   ],
   "source": [
    "Output_net_Adera2"
   ]
  },
  {
   "cell_type": "code",
   "execution_count": 24,
   "metadata": {
    "colab": {
     "base_uri": "https://localhost:8080/"
    },
    "executionInfo": {
     "elapsed": 382,
     "status": "ok",
     "timestamp": 1720265801515,
     "user": {
      "displayName": "michel mickael",
      "userId": "03847140515933130607"
     },
     "user_tz": -120
    },
    "id": "_F5U1kztK3bJ",
    "outputId": "f6dc9faa-9f63-47c5-f2a6-1ee548133f28"
   },
   "outputs": [
    {
     "data": {
      "text/plain": [
       "(7058, 1, 1, 20)"
      ]
     },
     "execution_count": 24,
     "metadata": {},
     "output_type": "execute_result"
    }
   ],
   "source": [
    "Input_Adera_numpy2=Input_net_Adera2.reshape(Input_net_Adera1.shape[0],1,1,6) #7 input values\n",
    "\n",
    "Output_net_Adera3=Output_net_Adera2.reshape(Input_net_Adera1.shape[0],1,1,k1.shape[0]) #7 cancer types\n",
    "Output_net_Adera3.shape"
   ]
  },
  {
   "cell_type": "code",
   "execution_count": 25,
   "metadata": {
    "colab": {
     "base_uri": "https://localhost:8080/"
    },
    "executionInfo": {
     "elapsed": 390,
     "status": "ok",
     "timestamp": 1720265805317,
     "user": {
      "displayName": "michel mickael",
      "userId": "03847140515933130607"
     },
     "user_tz": -120
    },
    "id": "Xtr0WxPh3Zk8",
    "outputId": "b05f1ca7-bc7c-468d-c8e0-a8b25e22f06b"
   },
   "outputs": [
    {
     "name": "stdout",
     "output_type": "stream",
     "text": [
      "20\n"
     ]
    }
   ],
   "source": [
    "print(k1.shape[0])"
   ]
  },
  {
   "cell_type": "code",
   "execution_count": 26,
   "metadata": {
    "colab": {
     "base_uri": "https://localhost:8080/"
    },
    "executionInfo": {
     "elapsed": 4,
     "status": "ok",
     "timestamp": 1720265806926,
     "user": {
      "displayName": "michel mickael",
      "userId": "03847140515933130607"
     },
     "user_tz": -120
    },
    "id": "H9VVq3fd9XOj",
    "outputId": "8398ef67-7506-4df6-cad4-c4eb3a1f38d7"
   },
   "outputs": [
    {
     "data": {
      "text/plain": [
       "(7058, 1, 1, 6)"
      ]
     },
     "execution_count": 26,
     "metadata": {},
     "output_type": "execute_result"
    }
   ],
   "source": [
    "Input_Adera_numpy2.shape"
   ]
  },
  {
   "cell_type": "code",
   "execution_count": 27,
   "metadata": {
    "executionInfo": {
     "elapsed": 324852,
     "status": "ok",
     "timestamp": 1720266143749,
     "user": {
      "displayName": "michel mickael",
      "userId": "03847140515933130607"
     },
     "user_tz": -120
    },
    "id": "PYpEqF1LVoAJ"
   },
   "outputs": [
    {
     "ename": "KeyboardInterrupt",
     "evalue": "",
     "output_type": "error",
     "traceback": [
      "\u001b[1;31m---------------------------------------------------------------------------\u001b[0m",
      "\u001b[1;31mKeyboardInterrupt\u001b[0m                         Traceback (most recent call last)",
      "Cell \u001b[1;32mIn[27], line 83\u001b[0m\n\u001b[0;32m     79\u001b[0m grace_model\u001b[38;5;241m.\u001b[39mcompile(optimizer\u001b[38;5;241m=\u001b[39moptimizer_Adera, loss\u001b[38;5;241m=\u001b[39m\u001b[38;5;124m'\u001b[39m\u001b[38;5;124mCategoricalFocalCrossentropy\u001b[39m\u001b[38;5;124m'\u001b[39m, metrics\u001b[38;5;241m=\u001b[39m[ \u001b[38;5;124m'\u001b[39m\u001b[38;5;124maccuracy\u001b[39m\u001b[38;5;124m'\u001b[39m, SpecificityAtSensitivity(\u001b[38;5;241m0.5\u001b[39m),AUC()  ])\n\u001b[0;32m     80\u001b[0m \u001b[38;5;66;03m##grace_model.compile(optimizer='adam', loss='SparseCategoricalCrossentropy', metrics=['accuracy','mse', 'mae', 'mape'])\u001b[39;00m\n\u001b[0;32m     81\u001b[0m \u001b[38;5;66;03m#k_adera=grace_model.fit(Input_Adera_numpy2,Output_net_Adera3,verbose=0,validation_split=0.49,epochs=150,batch_size=250, callbacks=[es_ADERA])\u001b[39;00m\n\u001b[0;32m     82\u001b[0m  \u001b[38;5;66;03m# TEST1_TRAIN_0.8_adera=grace_model.fit(Input_Adera_numpy2,Output_net_Adera3,verbose=1,validation_split=0.49,epochs=350,batch_size=250, callbacks=[es_ADERA]) # TEST1_TRAIN_0.8\u001b[39;00m\n\u001b[1;32m---> 83\u001b[0m k_adera\u001b[38;5;241m=\u001b[39m\u001b[43mgrace_model\u001b[49m\u001b[38;5;241;43m.\u001b[39;49m\u001b[43mfit\u001b[49m\u001b[43m(\u001b[49m\u001b[43mInput_Adera_numpy2\u001b[49m\u001b[43m,\u001b[49m\u001b[43mOutput_net_Adera3\u001b[49m\u001b[43m,\u001b[49m\u001b[43mverbose\u001b[49m\u001b[38;5;241;43m=\u001b[39;49m\u001b[38;5;241;43m0\u001b[39;49m\u001b[43m,\u001b[49m\u001b[43mvalidation_split\u001b[49m\u001b[38;5;241;43m=\u001b[39;49m\u001b[38;5;241;43m0.40\u001b[39;49m\u001b[43m,\u001b[49m\u001b[43mepochs\u001b[49m\u001b[38;5;241;43m=\u001b[39;49m\u001b[38;5;241;43m150\u001b[39;49m\u001b[43m,\u001b[49m\u001b[43mbatch_size\u001b[49m\u001b[38;5;241;43m=\u001b[39;49m\u001b[38;5;241;43m250\u001b[39;49m\u001b[43m,\u001b[49m\u001b[43m \u001b[49m\u001b[43mcallbacks\u001b[49m\u001b[38;5;241;43m=\u001b[39;49m\u001b[43m[\u001b[49m\u001b[43mes_ADERA\u001b[49m\u001b[43m]\u001b[49m\u001b[43m)\u001b[49m\n",
      "File \u001b[1;32mc:\\Users\\hp\\AppData\\Local\\Programs\\Python\\Python38\\lib\\site-packages\\keras\\src\\utils\\traceback_utils.py:65\u001b[0m, in \u001b[0;36mfilter_traceback.<locals>.error_handler\u001b[1;34m(*args, **kwargs)\u001b[0m\n\u001b[0;32m     63\u001b[0m filtered_tb \u001b[38;5;241m=\u001b[39m \u001b[38;5;28;01mNone\u001b[39;00m\n\u001b[0;32m     64\u001b[0m \u001b[38;5;28;01mtry\u001b[39;00m:\n\u001b[1;32m---> 65\u001b[0m     \u001b[38;5;28;01mreturn\u001b[39;00m \u001b[43mfn\u001b[49m\u001b[43m(\u001b[49m\u001b[38;5;241;43m*\u001b[39;49m\u001b[43margs\u001b[49m\u001b[43m,\u001b[49m\u001b[43m \u001b[49m\u001b[38;5;241;43m*\u001b[39;49m\u001b[38;5;241;43m*\u001b[39;49m\u001b[43mkwargs\u001b[49m\u001b[43m)\u001b[49m\n\u001b[0;32m     66\u001b[0m \u001b[38;5;28;01mexcept\u001b[39;00m \u001b[38;5;167;01mException\u001b[39;00m \u001b[38;5;28;01mas\u001b[39;00m e:\n\u001b[0;32m     67\u001b[0m     filtered_tb \u001b[38;5;241m=\u001b[39m _process_traceback_frames(e\u001b[38;5;241m.\u001b[39m__traceback__)\n",
      "File \u001b[1;32mc:\\Users\\hp\\AppData\\Local\\Programs\\Python\\Python38\\lib\\site-packages\\keras\\src\\engine\\training.py:1742\u001b[0m, in \u001b[0;36mModel.fit\u001b[1;34m(self, x, y, batch_size, epochs, verbose, callbacks, validation_split, validation_data, shuffle, class_weight, sample_weight, initial_epoch, steps_per_epoch, validation_steps, validation_batch_size, validation_freq, max_queue_size, workers, use_multiprocessing)\u001b[0m\n\u001b[0;32m   1734\u001b[0m \u001b[38;5;28;01mwith\u001b[39;00m tf\u001b[38;5;241m.\u001b[39mprofiler\u001b[38;5;241m.\u001b[39mexperimental\u001b[38;5;241m.\u001b[39mTrace(\n\u001b[0;32m   1735\u001b[0m     \u001b[38;5;124m\"\u001b[39m\u001b[38;5;124mtrain\u001b[39m\u001b[38;5;124m\"\u001b[39m,\n\u001b[0;32m   1736\u001b[0m     epoch_num\u001b[38;5;241m=\u001b[39mepoch,\n\u001b[1;32m   (...)\u001b[0m\n\u001b[0;32m   1739\u001b[0m     _r\u001b[38;5;241m=\u001b[39m\u001b[38;5;241m1\u001b[39m,\n\u001b[0;32m   1740\u001b[0m ):\n\u001b[0;32m   1741\u001b[0m     callbacks\u001b[38;5;241m.\u001b[39mon_train_batch_begin(step)\n\u001b[1;32m-> 1742\u001b[0m     tmp_logs \u001b[38;5;241m=\u001b[39m \u001b[38;5;28;43mself\u001b[39;49m\u001b[38;5;241;43m.\u001b[39;49m\u001b[43mtrain_function\u001b[49m\u001b[43m(\u001b[49m\u001b[43miterator\u001b[49m\u001b[43m)\u001b[49m\n\u001b[0;32m   1743\u001b[0m     \u001b[38;5;28;01mif\u001b[39;00m data_handler\u001b[38;5;241m.\u001b[39mshould_sync:\n\u001b[0;32m   1744\u001b[0m         context\u001b[38;5;241m.\u001b[39masync_wait()\n",
      "File \u001b[1;32mc:\\Users\\hp\\AppData\\Local\\Programs\\Python\\Python38\\lib\\site-packages\\tensorflow\\python\\util\\traceback_utils.py:150\u001b[0m, in \u001b[0;36mfilter_traceback.<locals>.error_handler\u001b[1;34m(*args, **kwargs)\u001b[0m\n\u001b[0;32m    148\u001b[0m filtered_tb \u001b[38;5;241m=\u001b[39m \u001b[38;5;28;01mNone\u001b[39;00m\n\u001b[0;32m    149\u001b[0m \u001b[38;5;28;01mtry\u001b[39;00m:\n\u001b[1;32m--> 150\u001b[0m   \u001b[38;5;28;01mreturn\u001b[39;00m \u001b[43mfn\u001b[49m\u001b[43m(\u001b[49m\u001b[38;5;241;43m*\u001b[39;49m\u001b[43margs\u001b[49m\u001b[43m,\u001b[49m\u001b[43m \u001b[49m\u001b[38;5;241;43m*\u001b[39;49m\u001b[38;5;241;43m*\u001b[39;49m\u001b[43mkwargs\u001b[49m\u001b[43m)\u001b[49m\n\u001b[0;32m    151\u001b[0m \u001b[38;5;28;01mexcept\u001b[39;00m \u001b[38;5;167;01mException\u001b[39;00m \u001b[38;5;28;01mas\u001b[39;00m e:\n\u001b[0;32m    152\u001b[0m   filtered_tb \u001b[38;5;241m=\u001b[39m _process_traceback_frames(e\u001b[38;5;241m.\u001b[39m__traceback__)\n",
      "File \u001b[1;32mc:\\Users\\hp\\AppData\\Local\\Programs\\Python\\Python38\\lib\\site-packages\\tensorflow\\python\\eager\\polymorphic_function\\polymorphic_function.py:825\u001b[0m, in \u001b[0;36mFunction.__call__\u001b[1;34m(self, *args, **kwds)\u001b[0m\n\u001b[0;32m    822\u001b[0m compiler \u001b[38;5;241m=\u001b[39m \u001b[38;5;124m\"\u001b[39m\u001b[38;5;124mxla\u001b[39m\u001b[38;5;124m\"\u001b[39m \u001b[38;5;28;01mif\u001b[39;00m \u001b[38;5;28mself\u001b[39m\u001b[38;5;241m.\u001b[39m_jit_compile \u001b[38;5;28;01melse\u001b[39;00m \u001b[38;5;124m\"\u001b[39m\u001b[38;5;124mnonXla\u001b[39m\u001b[38;5;124m\"\u001b[39m\n\u001b[0;32m    824\u001b[0m \u001b[38;5;28;01mwith\u001b[39;00m OptionalXlaContext(\u001b[38;5;28mself\u001b[39m\u001b[38;5;241m.\u001b[39m_jit_compile):\n\u001b[1;32m--> 825\u001b[0m   result \u001b[38;5;241m=\u001b[39m \u001b[38;5;28;43mself\u001b[39;49m\u001b[38;5;241;43m.\u001b[39;49m\u001b[43m_call\u001b[49m\u001b[43m(\u001b[49m\u001b[38;5;241;43m*\u001b[39;49m\u001b[43margs\u001b[49m\u001b[43m,\u001b[49m\u001b[43m \u001b[49m\u001b[38;5;241;43m*\u001b[39;49m\u001b[38;5;241;43m*\u001b[39;49m\u001b[43mkwds\u001b[49m\u001b[43m)\u001b[49m\n\u001b[0;32m    827\u001b[0m new_tracing_count \u001b[38;5;241m=\u001b[39m \u001b[38;5;28mself\u001b[39m\u001b[38;5;241m.\u001b[39mexperimental_get_tracing_count()\n\u001b[0;32m    828\u001b[0m without_tracing \u001b[38;5;241m=\u001b[39m (tracing_count \u001b[38;5;241m==\u001b[39m new_tracing_count)\n",
      "File \u001b[1;32mc:\\Users\\hp\\AppData\\Local\\Programs\\Python\\Python38\\lib\\site-packages\\tensorflow\\python\\eager\\polymorphic_function\\polymorphic_function.py:857\u001b[0m, in \u001b[0;36mFunction._call\u001b[1;34m(self, *args, **kwds)\u001b[0m\n\u001b[0;32m    854\u001b[0m   \u001b[38;5;28mself\u001b[39m\u001b[38;5;241m.\u001b[39m_lock\u001b[38;5;241m.\u001b[39mrelease()\n\u001b[0;32m    855\u001b[0m   \u001b[38;5;66;03m# In this case we have created variables on the first call, so we run the\u001b[39;00m\n\u001b[0;32m    856\u001b[0m   \u001b[38;5;66;03m# defunned version which is guaranteed to never create variables.\u001b[39;00m\n\u001b[1;32m--> 857\u001b[0m   \u001b[38;5;28;01mreturn\u001b[39;00m \u001b[38;5;28;43mself\u001b[39;49m\u001b[38;5;241;43m.\u001b[39;49m\u001b[43m_no_variable_creation_fn\u001b[49m\u001b[43m(\u001b[49m\u001b[38;5;241;43m*\u001b[39;49m\u001b[43margs\u001b[49m\u001b[43m,\u001b[49m\u001b[43m \u001b[49m\u001b[38;5;241;43m*\u001b[39;49m\u001b[38;5;241;43m*\u001b[39;49m\u001b[43mkwds\u001b[49m\u001b[43m)\u001b[49m  \u001b[38;5;66;03m# pylint: disable=not-callable\u001b[39;00m\n\u001b[0;32m    858\u001b[0m \u001b[38;5;28;01melif\u001b[39;00m \u001b[38;5;28mself\u001b[39m\u001b[38;5;241m.\u001b[39m_variable_creation_fn \u001b[38;5;129;01mis\u001b[39;00m \u001b[38;5;129;01mnot\u001b[39;00m \u001b[38;5;28;01mNone\u001b[39;00m:\n\u001b[0;32m    859\u001b[0m   \u001b[38;5;66;03m# Release the lock early so that multiple threads can perform the call\u001b[39;00m\n\u001b[0;32m    860\u001b[0m   \u001b[38;5;66;03m# in parallel.\u001b[39;00m\n\u001b[0;32m    861\u001b[0m   \u001b[38;5;28mself\u001b[39m\u001b[38;5;241m.\u001b[39m_lock\u001b[38;5;241m.\u001b[39mrelease()\n",
      "File \u001b[1;32mc:\\Users\\hp\\AppData\\Local\\Programs\\Python\\Python38\\lib\\site-packages\\tensorflow\\python\\eager\\polymorphic_function\\tracing_compiler.py:148\u001b[0m, in \u001b[0;36mTracingCompiler.__call__\u001b[1;34m(self, *args, **kwargs)\u001b[0m\n\u001b[0;32m    145\u001b[0m \u001b[38;5;28;01mwith\u001b[39;00m \u001b[38;5;28mself\u001b[39m\u001b[38;5;241m.\u001b[39m_lock:\n\u001b[0;32m    146\u001b[0m   (concrete_function,\n\u001b[0;32m    147\u001b[0m    filtered_flat_args) \u001b[38;5;241m=\u001b[39m \u001b[38;5;28mself\u001b[39m\u001b[38;5;241m.\u001b[39m_maybe_define_function(args, kwargs)\n\u001b[1;32m--> 148\u001b[0m \u001b[38;5;28;01mreturn\u001b[39;00m \u001b[43mconcrete_function\u001b[49m\u001b[38;5;241;43m.\u001b[39;49m\u001b[43m_call_flat\u001b[49m\u001b[43m(\u001b[49m\n\u001b[0;32m    149\u001b[0m \u001b[43m    \u001b[49m\u001b[43mfiltered_flat_args\u001b[49m\u001b[43m,\u001b[49m\u001b[43m \u001b[49m\u001b[43mcaptured_inputs\u001b[49m\u001b[38;5;241;43m=\u001b[39;49m\u001b[43mconcrete_function\u001b[49m\u001b[38;5;241;43m.\u001b[39;49m\u001b[43mcaptured_inputs\u001b[49m\u001b[43m)\u001b[49m\n",
      "File \u001b[1;32mc:\\Users\\hp\\AppData\\Local\\Programs\\Python\\Python38\\lib\\site-packages\\tensorflow\\python\\eager\\polymorphic_function\\monomorphic_function.py:1349\u001b[0m, in \u001b[0;36mConcreteFunction._call_flat\u001b[1;34m(self, args, captured_inputs)\u001b[0m\n\u001b[0;32m   1345\u001b[0m possible_gradient_type \u001b[38;5;241m=\u001b[39m gradients_util\u001b[38;5;241m.\u001b[39mPossibleTapeGradientTypes(args)\n\u001b[0;32m   1346\u001b[0m \u001b[38;5;28;01mif\u001b[39;00m (possible_gradient_type \u001b[38;5;241m==\u001b[39m gradients_util\u001b[38;5;241m.\u001b[39mPOSSIBLE_GRADIENT_TYPES_NONE\n\u001b[0;32m   1347\u001b[0m     \u001b[38;5;129;01mand\u001b[39;00m executing_eagerly):\n\u001b[0;32m   1348\u001b[0m   \u001b[38;5;66;03m# No tape is watching; skip to running the function.\u001b[39;00m\n\u001b[1;32m-> 1349\u001b[0m   \u001b[38;5;28;01mreturn\u001b[39;00m \u001b[38;5;28mself\u001b[39m\u001b[38;5;241m.\u001b[39m_build_call_outputs(\u001b[38;5;28;43mself\u001b[39;49m\u001b[38;5;241;43m.\u001b[39;49m\u001b[43m_inference_function\u001b[49m\u001b[43m(\u001b[49m\u001b[38;5;241;43m*\u001b[39;49m\u001b[43margs\u001b[49m\u001b[43m)\u001b[49m)\n\u001b[0;32m   1350\u001b[0m forward_backward \u001b[38;5;241m=\u001b[39m \u001b[38;5;28mself\u001b[39m\u001b[38;5;241m.\u001b[39m_select_forward_and_backward_functions(\n\u001b[0;32m   1351\u001b[0m     args,\n\u001b[0;32m   1352\u001b[0m     possible_gradient_type,\n\u001b[0;32m   1353\u001b[0m     executing_eagerly)\n\u001b[0;32m   1354\u001b[0m forward_function, args_with_tangents \u001b[38;5;241m=\u001b[39m forward_backward\u001b[38;5;241m.\u001b[39mforward()\n",
      "File \u001b[1;32mc:\\Users\\hp\\AppData\\Local\\Programs\\Python\\Python38\\lib\\site-packages\\tensorflow\\python\\eager\\polymorphic_function\\atomic_function.py:196\u001b[0m, in \u001b[0;36mAtomicFunction.__call__\u001b[1;34m(self, *args)\u001b[0m\n\u001b[0;32m    194\u001b[0m \u001b[38;5;28;01mwith\u001b[39;00m record\u001b[38;5;241m.\u001b[39mstop_recording():\n\u001b[0;32m    195\u001b[0m   \u001b[38;5;28;01mif\u001b[39;00m \u001b[38;5;28mself\u001b[39m\u001b[38;5;241m.\u001b[39m_bound_context\u001b[38;5;241m.\u001b[39mexecuting_eagerly():\n\u001b[1;32m--> 196\u001b[0m     outputs \u001b[38;5;241m=\u001b[39m \u001b[38;5;28;43mself\u001b[39;49m\u001b[38;5;241;43m.\u001b[39;49m\u001b[43m_bound_context\u001b[49m\u001b[38;5;241;43m.\u001b[39;49m\u001b[43mcall_function\u001b[49m\u001b[43m(\u001b[49m\n\u001b[0;32m    197\u001b[0m \u001b[43m        \u001b[49m\u001b[38;5;28;43mself\u001b[39;49m\u001b[38;5;241;43m.\u001b[39;49m\u001b[43mname\u001b[49m\u001b[43m,\u001b[49m\n\u001b[0;32m    198\u001b[0m \u001b[43m        \u001b[49m\u001b[38;5;28;43mlist\u001b[39;49m\u001b[43m(\u001b[49m\u001b[43margs\u001b[49m\u001b[43m)\u001b[49m\u001b[43m,\u001b[49m\n\u001b[0;32m    199\u001b[0m \u001b[43m        \u001b[49m\u001b[38;5;28;43mlen\u001b[39;49m\u001b[43m(\u001b[49m\u001b[38;5;28;43mself\u001b[39;49m\u001b[38;5;241;43m.\u001b[39;49m\u001b[43mfunction_type\u001b[49m\u001b[38;5;241;43m.\u001b[39;49m\u001b[43mflat_outputs\u001b[49m\u001b[43m)\u001b[49m\u001b[43m,\u001b[49m\n\u001b[0;32m    200\u001b[0m \u001b[43m    \u001b[49m\u001b[43m)\u001b[49m\n\u001b[0;32m    201\u001b[0m   \u001b[38;5;28;01melse\u001b[39;00m:\n\u001b[0;32m    202\u001b[0m     outputs \u001b[38;5;241m=\u001b[39m make_call_op_in_graph(\u001b[38;5;28mself\u001b[39m, \u001b[38;5;28mlist\u001b[39m(args))\n",
      "File \u001b[1;32mc:\\Users\\hp\\AppData\\Local\\Programs\\Python\\Python38\\lib\\site-packages\\tensorflow\\python\\eager\\context.py:1457\u001b[0m, in \u001b[0;36mContext.call_function\u001b[1;34m(self, name, tensor_inputs, num_outputs)\u001b[0m\n\u001b[0;32m   1455\u001b[0m cancellation_context \u001b[38;5;241m=\u001b[39m cancellation\u001b[38;5;241m.\u001b[39mcontext()\n\u001b[0;32m   1456\u001b[0m \u001b[38;5;28;01mif\u001b[39;00m cancellation_context \u001b[38;5;129;01mis\u001b[39;00m \u001b[38;5;28;01mNone\u001b[39;00m:\n\u001b[1;32m-> 1457\u001b[0m   outputs \u001b[38;5;241m=\u001b[39m \u001b[43mexecute\u001b[49m\u001b[38;5;241;43m.\u001b[39;49m\u001b[43mexecute\u001b[49m\u001b[43m(\u001b[49m\n\u001b[0;32m   1458\u001b[0m \u001b[43m      \u001b[49m\u001b[43mname\u001b[49m\u001b[38;5;241;43m.\u001b[39;49m\u001b[43mdecode\u001b[49m\u001b[43m(\u001b[49m\u001b[38;5;124;43m\"\u001b[39;49m\u001b[38;5;124;43mutf-8\u001b[39;49m\u001b[38;5;124;43m\"\u001b[39;49m\u001b[43m)\u001b[49m\u001b[43m,\u001b[49m\n\u001b[0;32m   1459\u001b[0m \u001b[43m      \u001b[49m\u001b[43mnum_outputs\u001b[49m\u001b[38;5;241;43m=\u001b[39;49m\u001b[43mnum_outputs\u001b[49m\u001b[43m,\u001b[49m\n\u001b[0;32m   1460\u001b[0m \u001b[43m      \u001b[49m\u001b[43minputs\u001b[49m\u001b[38;5;241;43m=\u001b[39;49m\u001b[43mtensor_inputs\u001b[49m\u001b[43m,\u001b[49m\n\u001b[0;32m   1461\u001b[0m \u001b[43m      \u001b[49m\u001b[43mattrs\u001b[49m\u001b[38;5;241;43m=\u001b[39;49m\u001b[43mattrs\u001b[49m\u001b[43m,\u001b[49m\n\u001b[0;32m   1462\u001b[0m \u001b[43m      \u001b[49m\u001b[43mctx\u001b[49m\u001b[38;5;241;43m=\u001b[39;49m\u001b[38;5;28;43mself\u001b[39;49m\u001b[43m,\u001b[49m\n\u001b[0;32m   1463\u001b[0m \u001b[43m  \u001b[49m\u001b[43m)\u001b[49m\n\u001b[0;32m   1464\u001b[0m \u001b[38;5;28;01melse\u001b[39;00m:\n\u001b[0;32m   1465\u001b[0m   outputs \u001b[38;5;241m=\u001b[39m execute\u001b[38;5;241m.\u001b[39mexecute_with_cancellation(\n\u001b[0;32m   1466\u001b[0m       name\u001b[38;5;241m.\u001b[39mdecode(\u001b[38;5;124m\"\u001b[39m\u001b[38;5;124mutf-8\u001b[39m\u001b[38;5;124m\"\u001b[39m),\n\u001b[0;32m   1467\u001b[0m       num_outputs\u001b[38;5;241m=\u001b[39mnum_outputs,\n\u001b[1;32m   (...)\u001b[0m\n\u001b[0;32m   1471\u001b[0m       cancellation_manager\u001b[38;5;241m=\u001b[39mcancellation_context,\n\u001b[0;32m   1472\u001b[0m   )\n",
      "File \u001b[1;32mc:\\Users\\hp\\AppData\\Local\\Programs\\Python\\Python38\\lib\\site-packages\\tensorflow\\python\\eager\\execute.py:53\u001b[0m, in \u001b[0;36mquick_execute\u001b[1;34m(op_name, num_outputs, inputs, attrs, ctx, name)\u001b[0m\n\u001b[0;32m     51\u001b[0m \u001b[38;5;28;01mtry\u001b[39;00m:\n\u001b[0;32m     52\u001b[0m   ctx\u001b[38;5;241m.\u001b[39mensure_initialized()\n\u001b[1;32m---> 53\u001b[0m   tensors \u001b[38;5;241m=\u001b[39m \u001b[43mpywrap_tfe\u001b[49m\u001b[38;5;241;43m.\u001b[39;49m\u001b[43mTFE_Py_Execute\u001b[49m\u001b[43m(\u001b[49m\u001b[43mctx\u001b[49m\u001b[38;5;241;43m.\u001b[39;49m\u001b[43m_handle\u001b[49m\u001b[43m,\u001b[49m\u001b[43m \u001b[49m\u001b[43mdevice_name\u001b[49m\u001b[43m,\u001b[49m\u001b[43m \u001b[49m\u001b[43mop_name\u001b[49m\u001b[43m,\u001b[49m\n\u001b[0;32m     54\u001b[0m \u001b[43m                                      \u001b[49m\u001b[43minputs\u001b[49m\u001b[43m,\u001b[49m\u001b[43m \u001b[49m\u001b[43mattrs\u001b[49m\u001b[43m,\u001b[49m\u001b[43m \u001b[49m\u001b[43mnum_outputs\u001b[49m\u001b[43m)\u001b[49m\n\u001b[0;32m     55\u001b[0m \u001b[38;5;28;01mexcept\u001b[39;00m core\u001b[38;5;241m.\u001b[39m_NotOkStatusException \u001b[38;5;28;01mas\u001b[39;00m e:\n\u001b[0;32m     56\u001b[0m   \u001b[38;5;28;01mif\u001b[39;00m name \u001b[38;5;129;01mis\u001b[39;00m \u001b[38;5;129;01mnot\u001b[39;00m \u001b[38;5;28;01mNone\u001b[39;00m:\n",
      "\u001b[1;31mKeyboardInterrupt\u001b[0m: "
     ]
    }
   ],
   "source": [
    "from keras.callbacks import EarlyStopping\n",
    "from keras.callbacks import ReduceLROnPlateau\n",
    "from tensorflow.keras.constraints import max_norm\n",
    "from tensorflow.keras.layers import Dense, Dropout, BatchNormalization\n",
    "from tensorflow.keras.metrics import SpecificityAtSensitivity, AUC\n",
    "\n",
    "# %% Build and compile the model\n",
    "\n",
    "#from tensorflow.keras import regularizers\n",
    "es_ADERA = EarlyStopping(monitor='val_accuracy', mode='max', verbose=1, patience=300)\n",
    "#es_ADERA = EarlyStopping(monitor='val_accuracy', mode='max', verbose=1, patience=300)\n",
    "#es_ADERA2= ReduceLROnPlateau(monitor='val_accuracy', factor=0.1,\n",
    "#                              patience=0, min_lr=0.5)\n",
    "grace_model = tf.keras.Sequential([\n",
    "  #tf.keras.layers.Dense(7, activation='softmax'), #softmax gives probailities that we encode at the end, do change\n",
    "#tf.keras.layers.Dense(8, activation='elu'),\n",
    "     #tf.keras.layers.Dense(2, activation='exponential'),\n",
    "#tf.keras.layers.Conv2D(filters=2, kernel_size=8, strides=1, padding=\"same\"),\n",
    "#tf.keras.layers.Dense(7, activation='relu'),\n",
    " # tf.keras.layers.Dense(256, activation='tanh'),\n",
    "\n",
    "  #tf.keras.layers.Dense(7, activation='softmax'), #softmax gives probailities that we encode at the end, do change\n",
    "#tf.keras.layers.Dense(8, activation='elu'),\n",
    "     #tf.keras.layers.Dense(2, activation='exponential'),\n",
    "#tf.keras.layers.Conv2D(filters=2, kernel_size=8, strides=1, padding=\"same\"),\n",
    "#tf.keras.layers.Dense(7, activation='relu'),\n",
    "  # tf.keras.layers.Dense(7, activation='exponential'),\n",
    "#tf.keras.layers.Dense(7, activation='relu'),\n",
    "\n",
    "#Model 1\n",
    " #  tf.keras.layers.Dense(256, activation='relu'),\n",
    " # tf.keras.layers.BatchNormalization(),\n",
    " # tf.keras.layers.Dropout(0.002),\n",
    " #  tf.keras.layers.Dense(256, activation='relu'),\n",
    "  #tf.keras.layers.Dense(128, activation='elu'),\n",
    " #    tf.keras.layers.Dropout(0.05),\n",
    " #tf.keras.layers.Dense(64, activation='selu'),\n",
    "#  #\n",
    " #  tf.keras.layers.Dense(64, activation='elu'),\n",
    " #  tf.keras.layers.Dense(32, activation='elu'),\n",
    "   # tf.keras.layers.Dense(32, activation='relu'),\n",
    "#tf.keras.layers.Dense(2, activation='exponential'),\n",
    "\n",
    " #tf.keras.layers.Dense(20, activation='softmax'),\n",
    "\n",
    "#Model 2\n",
    "  tf.keras.layers.Dense(256, activation='relu'),\n",
    " tf.keras.layers.Dense(256, activation='relu6'),\n",
    " tf.keras.layers.Dense(256, activation='elu'),\n",
    "   tf.keras.layers.Dense(256, activation='relu'),\n",
    " # tf.keras.layers.Conv2D(filters=22, kernel_size=8, strides=1, padding=\"same\"),\n",
    "tf.keras.layers.Conv2D(filters=22, kernel_size=8, strides=1, padding=\"same\"),\n",
    "     tf.keras.layers.Dense(256, activation='relu'),\n",
    " # tf.keras.layers.Dense(20, activation='sigmoid'),\n",
    "  tf.keras.layers.Dropout(0.5),\n",
    "tf.keras.layers.Dense(20, activation='softmax'),\n",
    "\n",
    "  ######Model 3\n",
    "  #   tf.keras.layers.Dense(128, activation='relu'),\n",
    "  #   tf.keras.layers.Dropout(0.002),\n",
    "  # tf.keras.layers.Dense(64, activation='relu'),\n",
    "\n",
    " #  tf.keras.layers.Dense(32, activation='relu'),\n",
    " #   tf.keras.layers.Dense(15, activation='selu'),\n",
    "#tf.keras.layers.Dense(15, activation='exponential'),\n",
    "# tf.keras.layers.Dense(15, activation='softmax'),\n",
    "      ])\n",
    "\n",
    "\n",
    "\n",
    "\n",
    "#optimizer_Adera=tf.keras.optimizers.Adam(learning_rate=0.5*1e-4, clipnorm = .01)\n",
    "optimizer_Adera=tf.keras.optimizers.Adamax(learning_rate=2*1e-2, clipnorm = .08)\n",
    "#optimizer_Adera = tf.keras.optimizers.Adamax(learning_rate=2*1e-2, clipnorm=0.08)\n",
    "#optimizer_Adera=tf.keras.optimizers.AdamW(learning_rate=1e-5,weight_decay=0.09,jit_compile=True,use_ema=False,ema_momentum=0.91,ema_overwrite_frequency=50000)\n",
    "#optimizer_Adera=tf.keras.optimizers.AdamW(learning_rate=1e-5,weight_decay=0.09,jit_compile=False,use_ema=True,ema_momentum=0.01,ema_overwrite_frequency=50)\n",
    "#optimizer_Adera=tf.keras.optimizers.AdamW(learning_rate=1e-5,weight_decay=0.05,jit_compile=False,use_ema=True,ema_momentum=0.01,ema_overwrite_frequency=5)\n",
    "#optimizer_Adera=tf.keras.optimizers.SGD(learning_rate=1e-15,momentum=0.09,nesterov=True,use_ema=True)\n",
    "#grace_model.compile(optimizer=tf.keras.optimizers.AdamW(learning_rate=1e-15), loss='categorical_crossentropy', metrics=['accuracy','mse', 'mae'])\n",
    "#grace_model.compile(optimizer=optimizer_Adera, loss='categorical_crossentropy', metrics=['accuracy','mse', 'mae'])\n",
    "#grace_model.compile(optimizer=optimizer_Adera, loss='CategoricalFocalCrossentropy', metrics=['accuracy'])\n",
    "grace_model.compile(optimizer=optimizer_Adera, loss='CategoricalFocalCrossentropy', metrics=[ 'accuracy', SpecificityAtSensitivity(0.5),AUC()  ])\n",
    "##grace_model.compile(optimizer='adam', loss='SparseCategoricalCrossentropy', metrics=['accuracy','mse', 'mae', 'mape'])\n",
    "#k_adera=grace_model.fit(Input_Adera_numpy2,Output_net_Adera3,verbose=0,validation_split=0.49,epochs=150,batch_size=250, callbacks=[es_ADERA])\n",
    " # TEST1_TRAIN_0.8_adera=grace_model.fit(Input_Adera_numpy2,Output_net_Adera3,verbose=1,validation_split=0.49,epochs=350,batch_size=250, callbacks=[es_ADERA]) # TEST1_TRAIN_0.8\n",
    "k_adera=grace_model.fit(Input_Adera_numpy2,Output_net_Adera3,verbose=0,validation_split=0.40,epochs=150,batch_size=250, callbacks=[es_ADERA])\n"
   ]
  },
  {
   "cell_type": "code",
   "execution_count": 28,
   "metadata": {
    "colab": {
     "base_uri": "https://localhost:8080/"
    },
    "executionInfo": {
     "elapsed": 913,
     "status": "ok",
     "timestamp": 1720266285756,
     "user": {
      "displayName": "michel mickael",
      "userId": "03847140515933130607"
     },
     "user_tz": -120
    },
    "id": "8s__i26Q61x8",
    "outputId": "703b8f33-364a-4f30-b82c-e3bff7287548"
   },
   "outputs": [
    {
     "name": "stdout",
     "output_type": "stream",
     "text": [
      "18/18 [==============================] - 0s 15ms/step - loss: 0.1020 - accuracy: 0.7281 - specificity_at_sensitivity: 0.9978 - auc: 0.9832\n"
     ]
    }
   ],
   "source": [
    "#print(k_adera.history.keys())\n",
    "#print(k_adera.history['val_loss'])\n",
    "#print(k_adera.history['val_accuracy'])\n",
    "#print(k_adera.history['mape'])\n",
    "results = grace_model.evaluate(Input_Adera_numpy2,Output_net_Adera3,batch_size=400)"
   ]
  },
  {
   "cell_type": "code",
   "execution_count": 29,
   "metadata": {
    "colab": {
     "base_uri": "https://localhost:8080/",
     "height": 927
    },
    "executionInfo": {
     "elapsed": 1370,
     "status": "ok",
     "timestamp": 1720266290578,
     "user": {
      "displayName": "michel mickael",
      "userId": "03847140515933130607"
     },
     "user_tz": -120
    },
    "id": "E1os8yM77b9m",
    "outputId": "393c2ff3-9deb-4838-d5d2-2df8bd8ab95d"
   },
   "outputs": [
    {
     "ename": "NameError",
     "evalue": "name 'k_adera' is not defined",
     "output_type": "error",
     "traceback": [
      "\u001b[1;31m---------------------------------------------------------------------------\u001b[0m",
      "\u001b[1;31mNameError\u001b[0m                                 Traceback (most recent call last)",
      "Cell \u001b[1;32mIn[29], line 2\u001b[0m\n\u001b[0;32m      1\u001b[0m \u001b[38;5;66;03m# summarize history for accuracy\u001b[39;00m\n\u001b[1;32m----> 2\u001b[0m plt\u001b[38;5;241m.\u001b[39mplot(\u001b[43mk_adera\u001b[49m\u001b[38;5;241m.\u001b[39mhistory[\u001b[38;5;124m'\u001b[39m\u001b[38;5;124maccuracy\u001b[39m\u001b[38;5;124m'\u001b[39m])\n\u001b[0;32m      3\u001b[0m plt\u001b[38;5;241m.\u001b[39mplot(k_adera\u001b[38;5;241m.\u001b[39mhistory[\u001b[38;5;124m'\u001b[39m\u001b[38;5;124mval_accuracy\u001b[39m\u001b[38;5;124m'\u001b[39m])\n\u001b[0;32m      4\u001b[0m plt\u001b[38;5;241m.\u001b[39mtitle(\u001b[38;5;124m'\u001b[39m\u001b[38;5;124mmodel accuracy\u001b[39m\u001b[38;5;124m'\u001b[39m)\n",
      "\u001b[1;31mNameError\u001b[0m: name 'k_adera' is not defined"
     ]
    }
   ],
   "source": [
    "# summarize history for accuracy\n",
    "plt.plot(k_adera.history['accuracy'])\n",
    "plt.plot(k_adera.history['val_accuracy'])\n",
    "plt.title('model accuracy')\n",
    "plt.ylabel('accuracy')\n",
    "plt.xlabel('epoch')\n",
    "plt.legend(['train', 'test'], loc='upper left')\n",
    "plt.show()\n",
    "# summarize history for loss\n",
    "axes = plt.gca()\n",
    "#axes.set_ylim([-0.005,0.005])\n",
    "plt.plot(k_adera.history['loss'])\n",
    "plt.plot(k_adera.history['val_loss'])\n",
    "#########################\n",
    "plt.title('model loss')\n",
    "plt.ylabel('loss')\n",
    "plt.xlabel('epoch')\n",
    "plt.legend(['train', 'test'], loc='upper left')\n",
    "plt.show()\n",
    "#plt.title('model mape')\n",
    "#plt.plot(k_adera.history['mean_squared_error'])\n",
    "#plt.plot(k_adera.history['val_mape'])\n",
    "#plt.plot(k_adera.history['mape'])\n",
    "#plt.ylabel('mape')\n",
    "#plt.xlabel('epoch')\n",
    "#plt.show()\n",
    "#plt.title('model mae')\n",
    "#plt.plot(k_adera.history['val_mae'])\n",
    "#plt.plot(k_adera.history['mae'])\n",
    "#plt.show()"
   ]
  },
  {
   "cell_type": "code",
   "execution_count": 30,
   "metadata": {
    "colab": {
     "base_uri": "https://localhost:8080/",
     "height": 977
    },
    "executionInfo": {
     "elapsed": 2619,
     "status": "ok",
     "timestamp": 1720266322946,
     "user": {
      "displayName": "michel mickael",
      "userId": "03847140515933130607"
     },
     "user_tz": -120
    },
    "id": "3CIuCsXsPBQX",
    "outputId": "b91eb977-e42b-4384-9f8b-add36853a7e9"
   },
   "outputs": [
    {
     "ename": "NameError",
     "evalue": "name 'k_adera' is not defined",
     "output_type": "error",
     "traceback": [
      "\u001b[1;31m---------------------------------------------------------------------------\u001b[0m",
      "\u001b[1;31mNameError\u001b[0m                                 Traceback (most recent call last)",
      "Cell \u001b[1;32mIn[30], line 6\u001b[0m\n\u001b[0;32m      4\u001b[0m \u001b[38;5;66;03m# Plot Accuracy\u001b[39;00m\n\u001b[0;32m      5\u001b[0m plt\u001b[38;5;241m.\u001b[39msubplot(\u001b[38;5;241m1\u001b[39m, \u001b[38;5;241m3\u001b[39m, \u001b[38;5;241m1\u001b[39m)\n\u001b[1;32m----> 6\u001b[0m plt\u001b[38;5;241m.\u001b[39mplot(\u001b[43mk_adera\u001b[49m\u001b[38;5;241m.\u001b[39mhistory[\u001b[38;5;124m'\u001b[39m\u001b[38;5;124maccuracy\u001b[39m\u001b[38;5;124m'\u001b[39m])\n\u001b[0;32m      7\u001b[0m plt\u001b[38;5;241m.\u001b[39mplot(k_adera\u001b[38;5;241m.\u001b[39mhistory[\u001b[38;5;124m'\u001b[39m\u001b[38;5;124mval_accuracy\u001b[39m\u001b[38;5;124m'\u001b[39m])\n\u001b[0;32m      8\u001b[0m plt\u001b[38;5;241m.\u001b[39mtitle(\u001b[38;5;124m'\u001b[39m\u001b[38;5;124mModel Accuracy\u001b[39m\u001b[38;5;124m'\u001b[39m)\n",
      "\u001b[1;31mNameError\u001b[0m: name 'k_adera' is not defined"
     ]
    },
    {
     "data": {
      "image/png": "[encoded data removed]",
      "text/plain": [
       "<Figure size 1600x500 with 1 Axes>"
      ]
     },
     "metadata": {},
     "output_type": "display_data"
    }
   ],
   "source": [
    "# Plotting multiple metrics\n",
    "plt.figure(figsize=(16, 5))\n",
    "\n",
    "# Plot Accuracy\n",
    "plt.subplot(1, 3, 1)\n",
    "plt.plot(k_adera.history['accuracy'])\n",
    "plt.plot(k_adera.history['val_accuracy'])\n",
    "plt.title('Model Accuracy')\n",
    "plt.ylabel('Accuracy')\n",
    "plt.xlabel('Epoch')\n",
    "plt.legend(['Train', 'Validation'], loc='upper left')\n",
    "\n",
    "# Plot Loss\n",
    "plt.subplot(1, 3, 2)\n",
    "plt.plot(k_adera.history['loss'])\n",
    "plt.plot(k_adera.history['val_loss'])\n",
    "plt.title('Model Loss')\n",
    "plt.ylabel('Loss')\n",
    "plt.xlabel('Epoch')\n",
    "plt.legend(['Train', 'Validation'], loc='upper left')\n",
    "\n",
    "# Plot Specificity at Sensitivity 0.5\n",
    "plt.subplot(1, 3, 3)\n",
    "plt.plot(k_adera.history['specificity_at_sensitivity_2'])\n",
    "plt.plot(k_adera.history['val_specificity_at_sensitivity_2'])\n",
    "plt.title('Specificity at Sensitivity 0.5')\n",
    "plt.ylabel('Specificity')\n",
    "plt.xlabel('Epoch')\n",
    "plt.legend(['Train', 'Validation'], loc='upper left')\n",
    "\n",
    "plt.tight_layout()\n",
    "plt.show()\n",
    "\n",
    "# Plot AUC\n",
    "plt.figure(figsize=(8, 5))\n",
    "plt.plot(k_adera.history['auc_2'])\n",
    "plt.plot(k_adera.history['val_auc_2'])\n",
    "plt.title('Model AUC')\n",
    "plt.ylabel('AUC')\n",
    "plt.xlabel('Epoch')\n",
    "plt.legend(['Train', 'Validation'], loc='upper left')\n",
    "plt.show()"
   ]
  },
  {
   "cell_type": "code",
   "execution_count": 31,
   "metadata": {
    "colab": {
     "base_uri": "https://localhost:8080/"
    },
    "collapsed": true,
    "executionInfo": {
     "elapsed": 32729,
     "status": "ok",
     "timestamp": 1720267006923,
     "user": {
      "displayName": "michel mickael",
      "userId": "03847140515933130607"
     },
     "user_tz": -120
    },
    "id": "tnRErCyW9Hnr",
    "jupyter": {
     "outputs_hidden": true
    },
    "outputId": "d34cf3b5-696d-458c-ad73-a7960a13f1c0"
   },
   "outputs": [
    {
     "name": "stdout",
     "output_type": "stream",
     "text": [
      "Epoch 1/150\n",
      "17/17 [==============================] - 8s 191ms/step - loss: 0.5671 - accuracy: 0.2000 - specificity_at_sensitivity_1: 0.8628 - auc_1: 0.7804 - val_loss: 0.4214 - val_accuracy: 0.2461 - val_specificity_at_sensitivity_1: 0.8878 - val_auc_1: 0.8577\n",
      "Epoch 2/150\n",
      "17/17 [==============================] - 2s 141ms/step - loss: 0.3820 - accuracy: 0.3127 - specificity_at_sensitivity_1: 0.9192 - auc_1: 0.8807 - val_loss: 0.3076 - val_accuracy: 0.3991 - val_specificity_at_sensitivity_1: 0.9509 - val_auc_1: 0.9135\n",
      "Epoch 3/150\n",
      "17/17 [==============================] - 3s 163ms/step - loss: 0.3145 - accuracy: 0.3850 - specificity_at_sensitivity_1: 0.9499 - auc_1: 0.9129 - val_loss: 0.2695 - val_accuracy: 0.4600 - val_specificity_at_sensitivity_1: 0.9685 - val_auc_1: 0.9296\n",
      "Epoch 4/150\n",
      " 8/17 [=============>................] - ETA: 1s - loss: 0.2905 - accuracy: 0.3965 - specificity_at_sensitivity_1: 0.9536 - auc_1: 0.9222"
     ]
    },
    {
     "ename": "KeyboardInterrupt",
     "evalue": "",
     "output_type": "error",
     "traceback": [
      "\u001b[1;31m---------------------------------------------------------------------------\u001b[0m",
      "\u001b[1;31mKeyboardInterrupt\u001b[0m                         Traceback (most recent call last)",
      "Cell \u001b[1;32mIn[31], line 30\u001b[0m\n\u001b[0;32m     26\u001b[0m grace_model\u001b[38;5;241m.\u001b[39mcompile(optimizer\u001b[38;5;241m=\u001b[39moptimizer_Adera, loss\u001b[38;5;241m=\u001b[39m\u001b[38;5;124m'\u001b[39m\u001b[38;5;124mCategoricalFocalCrossentropy\u001b[39m\u001b[38;5;124m'\u001b[39m, metrics\u001b[38;5;241m=\u001b[39m[\u001b[38;5;124m'\u001b[39m\u001b[38;5;124maccuracy\u001b[39m\u001b[38;5;124m'\u001b[39m, SpecificityAtSensitivity(\u001b[38;5;241m0.5\u001b[39m), AUC()])\n\u001b[0;32m     29\u001b[0m \u001b[38;5;66;03m# Train the model\u001b[39;00m\n\u001b[1;32m---> 30\u001b[0m k_adera \u001b[38;5;241m=\u001b[39m \u001b[43mgrace_model\u001b[49m\u001b[38;5;241;43m.\u001b[39;49m\u001b[43mfit\u001b[49m\u001b[43m(\u001b[49m\u001b[43mInput_Adera_numpy2\u001b[49m\u001b[43m,\u001b[49m\u001b[43m \u001b[49m\u001b[43mOutput_net_Adera3a\u001b[49m\u001b[43m,\u001b[49m\u001b[43m \u001b[49m\u001b[43mverbose\u001b[49m\u001b[38;5;241;43m=\u001b[39;49m\u001b[38;5;241;43m1\u001b[39;49m\u001b[43m,\u001b[49m\u001b[43m \u001b[49m\u001b[43mvalidation_split\u001b[49m\u001b[38;5;241;43m=\u001b[39;49m\u001b[38;5;241;43m0.40\u001b[39;49m\u001b[43m,\u001b[49m\u001b[43m \u001b[49m\u001b[43mepochs\u001b[49m\u001b[38;5;241;43m=\u001b[39;49m\u001b[38;5;241;43m150\u001b[39;49m\u001b[43m,\u001b[49m\u001b[43m \u001b[49m\u001b[43mbatch_size\u001b[49m\u001b[38;5;241;43m=\u001b[39;49m\u001b[38;5;241;43m250\u001b[39;49m\u001b[43m,\u001b[49m\u001b[43m \u001b[49m\u001b[43mcallbacks\u001b[49m\u001b[38;5;241;43m=\u001b[39;49m\u001b[43m[\u001b[49m\u001b[43mes_ADERA\u001b[49m\u001b[43m]\u001b[49m\u001b[43m)\u001b[49m\n",
      "File \u001b[1;32mc:\\Users\\hp\\AppData\\Local\\Programs\\Python\\Python38\\lib\\site-packages\\keras\\src\\utils\\traceback_utils.py:65\u001b[0m, in \u001b[0;36mfilter_traceback.<locals>.error_handler\u001b[1;34m(*args, **kwargs)\u001b[0m\n\u001b[0;32m     63\u001b[0m filtered_tb \u001b[38;5;241m=\u001b[39m \u001b[38;5;28;01mNone\u001b[39;00m\n\u001b[0;32m     64\u001b[0m \u001b[38;5;28;01mtry\u001b[39;00m:\n\u001b[1;32m---> 65\u001b[0m     \u001b[38;5;28;01mreturn\u001b[39;00m \u001b[43mfn\u001b[49m\u001b[43m(\u001b[49m\u001b[38;5;241;43m*\u001b[39;49m\u001b[43margs\u001b[49m\u001b[43m,\u001b[49m\u001b[43m \u001b[49m\u001b[38;5;241;43m*\u001b[39;49m\u001b[38;5;241;43m*\u001b[39;49m\u001b[43mkwargs\u001b[49m\u001b[43m)\u001b[49m\n\u001b[0;32m     66\u001b[0m \u001b[38;5;28;01mexcept\u001b[39;00m \u001b[38;5;167;01mException\u001b[39;00m \u001b[38;5;28;01mas\u001b[39;00m e:\n\u001b[0;32m     67\u001b[0m     filtered_tb \u001b[38;5;241m=\u001b[39m _process_traceback_frames(e\u001b[38;5;241m.\u001b[39m__traceback__)\n",
      "File \u001b[1;32mc:\\Users\\hp\\AppData\\Local\\Programs\\Python\\Python38\\lib\\site-packages\\keras\\src\\engine\\training.py:1742\u001b[0m, in \u001b[0;36mModel.fit\u001b[1;34m(self, x, y, batch_size, epochs, verbose, callbacks, validation_split, validation_data, shuffle, class_weight, sample_weight, initial_epoch, steps_per_epoch, validation_steps, validation_batch_size, validation_freq, max_queue_size, workers, use_multiprocessing)\u001b[0m\n\u001b[0;32m   1734\u001b[0m \u001b[38;5;28;01mwith\u001b[39;00m tf\u001b[38;5;241m.\u001b[39mprofiler\u001b[38;5;241m.\u001b[39mexperimental\u001b[38;5;241m.\u001b[39mTrace(\n\u001b[0;32m   1735\u001b[0m     \u001b[38;5;124m\"\u001b[39m\u001b[38;5;124mtrain\u001b[39m\u001b[38;5;124m\"\u001b[39m,\n\u001b[0;32m   1736\u001b[0m     epoch_num\u001b[38;5;241m=\u001b[39mepoch,\n\u001b[1;32m   (...)\u001b[0m\n\u001b[0;32m   1739\u001b[0m     _r\u001b[38;5;241m=\u001b[39m\u001b[38;5;241m1\u001b[39m,\n\u001b[0;32m   1740\u001b[0m ):\n\u001b[0;32m   1741\u001b[0m     callbacks\u001b[38;5;241m.\u001b[39mon_train_batch_begin(step)\n\u001b[1;32m-> 1742\u001b[0m     tmp_logs \u001b[38;5;241m=\u001b[39m \u001b[38;5;28;43mself\u001b[39;49m\u001b[38;5;241;43m.\u001b[39;49m\u001b[43mtrain_function\u001b[49m\u001b[43m(\u001b[49m\u001b[43miterator\u001b[49m\u001b[43m)\u001b[49m\n\u001b[0;32m   1743\u001b[0m     \u001b[38;5;28;01mif\u001b[39;00m data_handler\u001b[38;5;241m.\u001b[39mshould_sync:\n\u001b[0;32m   1744\u001b[0m         context\u001b[38;5;241m.\u001b[39masync_wait()\n",
      "File \u001b[1;32mc:\\Users\\hp\\AppData\\Local\\Programs\\Python\\Python38\\lib\\site-packages\\tensorflow\\python\\util\\traceback_utils.py:150\u001b[0m, in \u001b[0;36mfilter_traceback.<locals>.error_handler\u001b[1;34m(*args, **kwargs)\u001b[0m\n\u001b[0;32m    148\u001b[0m filtered_tb \u001b[38;5;241m=\u001b[39m \u001b[38;5;28;01mNone\u001b[39;00m\n\u001b[0;32m    149\u001b[0m \u001b[38;5;28;01mtry\u001b[39;00m:\n\u001b[1;32m--> 150\u001b[0m   \u001b[38;5;28;01mreturn\u001b[39;00m \u001b[43mfn\u001b[49m\u001b[43m(\u001b[49m\u001b[38;5;241;43m*\u001b[39;49m\u001b[43margs\u001b[49m\u001b[43m,\u001b[49m\u001b[43m \u001b[49m\u001b[38;5;241;43m*\u001b[39;49m\u001b[38;5;241;43m*\u001b[39;49m\u001b[43mkwargs\u001b[49m\u001b[43m)\u001b[49m\n\u001b[0;32m    151\u001b[0m \u001b[38;5;28;01mexcept\u001b[39;00m \u001b[38;5;167;01mException\u001b[39;00m \u001b[38;5;28;01mas\u001b[39;00m e:\n\u001b[0;32m    152\u001b[0m   filtered_tb \u001b[38;5;241m=\u001b[39m _process_traceback_frames(e\u001b[38;5;241m.\u001b[39m__traceback__)\n",
      "File \u001b[1;32mc:\\Users\\hp\\AppData\\Local\\Programs\\Python\\Python38\\lib\\site-packages\\tensorflow\\python\\eager\\polymorphic_function\\polymorphic_function.py:825\u001b[0m, in \u001b[0;36mFunction.__call__\u001b[1;34m(self, *args, **kwds)\u001b[0m\n\u001b[0;32m    822\u001b[0m compiler \u001b[38;5;241m=\u001b[39m \u001b[38;5;124m\"\u001b[39m\u001b[38;5;124mxla\u001b[39m\u001b[38;5;124m\"\u001b[39m \u001b[38;5;28;01mif\u001b[39;00m \u001b[38;5;28mself\u001b[39m\u001b[38;5;241m.\u001b[39m_jit_compile \u001b[38;5;28;01melse\u001b[39;00m \u001b[38;5;124m\"\u001b[39m\u001b[38;5;124mnonXla\u001b[39m\u001b[38;5;124m\"\u001b[39m\n\u001b[0;32m    824\u001b[0m \u001b[38;5;28;01mwith\u001b[39;00m OptionalXlaContext(\u001b[38;5;28mself\u001b[39m\u001b[38;5;241m.\u001b[39m_jit_compile):\n\u001b[1;32m--> 825\u001b[0m   result \u001b[38;5;241m=\u001b[39m \u001b[38;5;28;43mself\u001b[39;49m\u001b[38;5;241;43m.\u001b[39;49m\u001b[43m_call\u001b[49m\u001b[43m(\u001b[49m\u001b[38;5;241;43m*\u001b[39;49m\u001b[43margs\u001b[49m\u001b[43m,\u001b[49m\u001b[43m \u001b[49m\u001b[38;5;241;43m*\u001b[39;49m\u001b[38;5;241;43m*\u001b[39;49m\u001b[43mkwds\u001b[49m\u001b[43m)\u001b[49m\n\u001b[0;32m    827\u001b[0m new_tracing_count \u001b[38;5;241m=\u001b[39m \u001b[38;5;28mself\u001b[39m\u001b[38;5;241m.\u001b[39mexperimental_get_tracing_count()\n\u001b[0;32m    828\u001b[0m without_tracing \u001b[38;5;241m=\u001b[39m (tracing_count \u001b[38;5;241m==\u001b[39m new_tracing_count)\n",
      "File \u001b[1;32mc:\\Users\\hp\\AppData\\Local\\Programs\\Python\\Python38\\lib\\site-packages\\tensorflow\\python\\eager\\polymorphic_function\\polymorphic_function.py:857\u001b[0m, in \u001b[0;36mFunction._call\u001b[1;34m(self, *args, **kwds)\u001b[0m\n\u001b[0;32m    854\u001b[0m   \u001b[38;5;28mself\u001b[39m\u001b[38;5;241m.\u001b[39m_lock\u001b[38;5;241m.\u001b[39mrelease()\n\u001b[0;32m    855\u001b[0m   \u001b[38;5;66;03m# In this case we have created variables on the first call, so we run the\u001b[39;00m\n\u001b[0;32m    856\u001b[0m   \u001b[38;5;66;03m# defunned version which is guaranteed to never create variables.\u001b[39;00m\n\u001b[1;32m--> 857\u001b[0m   \u001b[38;5;28;01mreturn\u001b[39;00m \u001b[38;5;28;43mself\u001b[39;49m\u001b[38;5;241;43m.\u001b[39;49m\u001b[43m_no_variable_creation_fn\u001b[49m\u001b[43m(\u001b[49m\u001b[38;5;241;43m*\u001b[39;49m\u001b[43margs\u001b[49m\u001b[43m,\u001b[49m\u001b[43m \u001b[49m\u001b[38;5;241;43m*\u001b[39;49m\u001b[38;5;241;43m*\u001b[39;49m\u001b[43mkwds\u001b[49m\u001b[43m)\u001b[49m  \u001b[38;5;66;03m# pylint: disable=not-callable\u001b[39;00m\n\u001b[0;32m    858\u001b[0m \u001b[38;5;28;01melif\u001b[39;00m \u001b[38;5;28mself\u001b[39m\u001b[38;5;241m.\u001b[39m_variable_creation_fn \u001b[38;5;129;01mis\u001b[39;00m \u001b[38;5;129;01mnot\u001b[39;00m \u001b[38;5;28;01mNone\u001b[39;00m:\n\u001b[0;32m    859\u001b[0m   \u001b[38;5;66;03m# Release the lock early so that multiple threads can perform the call\u001b[39;00m\n\u001b[0;32m    860\u001b[0m   \u001b[38;5;66;03m# in parallel.\u001b[39;00m\n\u001b[0;32m    861\u001b[0m   \u001b[38;5;28mself\u001b[39m\u001b[38;5;241m.\u001b[39m_lock\u001b[38;5;241m.\u001b[39mrelease()\n",
      "File \u001b[1;32mc:\\Users\\hp\\AppData\\Local\\Programs\\Python\\Python38\\lib\\site-packages\\tensorflow\\python\\eager\\polymorphic_function\\tracing_compiler.py:148\u001b[0m, in \u001b[0;36mTracingCompiler.__call__\u001b[1;34m(self, *args, **kwargs)\u001b[0m\n\u001b[0;32m    145\u001b[0m \u001b[38;5;28;01mwith\u001b[39;00m \u001b[38;5;28mself\u001b[39m\u001b[38;5;241m.\u001b[39m_lock:\n\u001b[0;32m    146\u001b[0m   (concrete_function,\n\u001b[0;32m    147\u001b[0m    filtered_flat_args) \u001b[38;5;241m=\u001b[39m \u001b[38;5;28mself\u001b[39m\u001b[38;5;241m.\u001b[39m_maybe_define_function(args, kwargs)\n\u001b[1;32m--> 148\u001b[0m \u001b[38;5;28;01mreturn\u001b[39;00m \u001b[43mconcrete_function\u001b[49m\u001b[38;5;241;43m.\u001b[39;49m\u001b[43m_call_flat\u001b[49m\u001b[43m(\u001b[49m\n\u001b[0;32m    149\u001b[0m \u001b[43m    \u001b[49m\u001b[43mfiltered_flat_args\u001b[49m\u001b[43m,\u001b[49m\u001b[43m \u001b[49m\u001b[43mcaptured_inputs\u001b[49m\u001b[38;5;241;43m=\u001b[39;49m\u001b[43mconcrete_function\u001b[49m\u001b[38;5;241;43m.\u001b[39;49m\u001b[43mcaptured_inputs\u001b[49m\u001b[43m)\u001b[49m\n",
      "File \u001b[1;32mc:\\Users\\hp\\AppData\\Local\\Programs\\Python\\Python38\\lib\\site-packages\\tensorflow\\python\\eager\\polymorphic_function\\monomorphic_function.py:1349\u001b[0m, in \u001b[0;36mConcreteFunction._call_flat\u001b[1;34m(self, args, captured_inputs)\u001b[0m\n\u001b[0;32m   1345\u001b[0m possible_gradient_type \u001b[38;5;241m=\u001b[39m gradients_util\u001b[38;5;241m.\u001b[39mPossibleTapeGradientTypes(args)\n\u001b[0;32m   1346\u001b[0m \u001b[38;5;28;01mif\u001b[39;00m (possible_gradient_type \u001b[38;5;241m==\u001b[39m gradients_util\u001b[38;5;241m.\u001b[39mPOSSIBLE_GRADIENT_TYPES_NONE\n\u001b[0;32m   1347\u001b[0m     \u001b[38;5;129;01mand\u001b[39;00m executing_eagerly):\n\u001b[0;32m   1348\u001b[0m   \u001b[38;5;66;03m# No tape is watching; skip to running the function.\u001b[39;00m\n\u001b[1;32m-> 1349\u001b[0m   \u001b[38;5;28;01mreturn\u001b[39;00m \u001b[38;5;28mself\u001b[39m\u001b[38;5;241m.\u001b[39m_build_call_outputs(\u001b[38;5;28;43mself\u001b[39;49m\u001b[38;5;241;43m.\u001b[39;49m\u001b[43m_inference_function\u001b[49m\u001b[43m(\u001b[49m\u001b[38;5;241;43m*\u001b[39;49m\u001b[43margs\u001b[49m\u001b[43m)\u001b[49m)\n\u001b[0;32m   1350\u001b[0m forward_backward \u001b[38;5;241m=\u001b[39m \u001b[38;5;28mself\u001b[39m\u001b[38;5;241m.\u001b[39m_select_forward_and_backward_functions(\n\u001b[0;32m   1351\u001b[0m     args,\n\u001b[0;32m   1352\u001b[0m     possible_gradient_type,\n\u001b[0;32m   1353\u001b[0m     executing_eagerly)\n\u001b[0;32m   1354\u001b[0m forward_function, args_with_tangents \u001b[38;5;241m=\u001b[39m forward_backward\u001b[38;5;241m.\u001b[39mforward()\n",
      "File \u001b[1;32mc:\\Users\\hp\\AppData\\Local\\Programs\\Python\\Python38\\lib\\site-packages\\tensorflow\\python\\eager\\polymorphic_function\\atomic_function.py:196\u001b[0m, in \u001b[0;36mAtomicFunction.__call__\u001b[1;34m(self, *args)\u001b[0m\n\u001b[0;32m    194\u001b[0m \u001b[38;5;28;01mwith\u001b[39;00m record\u001b[38;5;241m.\u001b[39mstop_recording():\n\u001b[0;32m    195\u001b[0m   \u001b[38;5;28;01mif\u001b[39;00m \u001b[38;5;28mself\u001b[39m\u001b[38;5;241m.\u001b[39m_bound_context\u001b[38;5;241m.\u001b[39mexecuting_eagerly():\n\u001b[1;32m--> 196\u001b[0m     outputs \u001b[38;5;241m=\u001b[39m \u001b[38;5;28;43mself\u001b[39;49m\u001b[38;5;241;43m.\u001b[39;49m\u001b[43m_bound_context\u001b[49m\u001b[38;5;241;43m.\u001b[39;49m\u001b[43mcall_function\u001b[49m\u001b[43m(\u001b[49m\n\u001b[0;32m    197\u001b[0m \u001b[43m        \u001b[49m\u001b[38;5;28;43mself\u001b[39;49m\u001b[38;5;241;43m.\u001b[39;49m\u001b[43mname\u001b[49m\u001b[43m,\u001b[49m\n\u001b[0;32m    198\u001b[0m \u001b[43m        \u001b[49m\u001b[38;5;28;43mlist\u001b[39;49m\u001b[43m(\u001b[49m\u001b[43margs\u001b[49m\u001b[43m)\u001b[49m\u001b[43m,\u001b[49m\n\u001b[0;32m    199\u001b[0m \u001b[43m        \u001b[49m\u001b[38;5;28;43mlen\u001b[39;49m\u001b[43m(\u001b[49m\u001b[38;5;28;43mself\u001b[39;49m\u001b[38;5;241;43m.\u001b[39;49m\u001b[43mfunction_type\u001b[49m\u001b[38;5;241;43m.\u001b[39;49m\u001b[43mflat_outputs\u001b[49m\u001b[43m)\u001b[49m\u001b[43m,\u001b[49m\n\u001b[0;32m    200\u001b[0m \u001b[43m    \u001b[49m\u001b[43m)\u001b[49m\n\u001b[0;32m    201\u001b[0m   \u001b[38;5;28;01melse\u001b[39;00m:\n\u001b[0;32m    202\u001b[0m     outputs \u001b[38;5;241m=\u001b[39m make_call_op_in_graph(\u001b[38;5;28mself\u001b[39m, \u001b[38;5;28mlist\u001b[39m(args))\n",
      "File \u001b[1;32mc:\\Users\\hp\\AppData\\Local\\Programs\\Python\\Python38\\lib\\site-packages\\tensorflow\\python\\eager\\context.py:1457\u001b[0m, in \u001b[0;36mContext.call_function\u001b[1;34m(self, name, tensor_inputs, num_outputs)\u001b[0m\n\u001b[0;32m   1455\u001b[0m cancellation_context \u001b[38;5;241m=\u001b[39m cancellation\u001b[38;5;241m.\u001b[39mcontext()\n\u001b[0;32m   1456\u001b[0m \u001b[38;5;28;01mif\u001b[39;00m cancellation_context \u001b[38;5;129;01mis\u001b[39;00m \u001b[38;5;28;01mNone\u001b[39;00m:\n\u001b[1;32m-> 1457\u001b[0m   outputs \u001b[38;5;241m=\u001b[39m \u001b[43mexecute\u001b[49m\u001b[38;5;241;43m.\u001b[39;49m\u001b[43mexecute\u001b[49m\u001b[43m(\u001b[49m\n\u001b[0;32m   1458\u001b[0m \u001b[43m      \u001b[49m\u001b[43mname\u001b[49m\u001b[38;5;241;43m.\u001b[39;49m\u001b[43mdecode\u001b[49m\u001b[43m(\u001b[49m\u001b[38;5;124;43m\"\u001b[39;49m\u001b[38;5;124;43mutf-8\u001b[39;49m\u001b[38;5;124;43m\"\u001b[39;49m\u001b[43m)\u001b[49m\u001b[43m,\u001b[49m\n\u001b[0;32m   1459\u001b[0m \u001b[43m      \u001b[49m\u001b[43mnum_outputs\u001b[49m\u001b[38;5;241;43m=\u001b[39;49m\u001b[43mnum_outputs\u001b[49m\u001b[43m,\u001b[49m\n\u001b[0;32m   1460\u001b[0m \u001b[43m      \u001b[49m\u001b[43minputs\u001b[49m\u001b[38;5;241;43m=\u001b[39;49m\u001b[43mtensor_inputs\u001b[49m\u001b[43m,\u001b[49m\n\u001b[0;32m   1461\u001b[0m \u001b[43m      \u001b[49m\u001b[43mattrs\u001b[49m\u001b[38;5;241;43m=\u001b[39;49m\u001b[43mattrs\u001b[49m\u001b[43m,\u001b[49m\n\u001b[0;32m   1462\u001b[0m \u001b[43m      \u001b[49m\u001b[43mctx\u001b[49m\u001b[38;5;241;43m=\u001b[39;49m\u001b[38;5;28;43mself\u001b[39;49m\u001b[43m,\u001b[49m\n\u001b[0;32m   1463\u001b[0m \u001b[43m  \u001b[49m\u001b[43m)\u001b[49m\n\u001b[0;32m   1464\u001b[0m \u001b[38;5;28;01melse\u001b[39;00m:\n\u001b[0;32m   1465\u001b[0m   outputs \u001b[38;5;241m=\u001b[39m execute\u001b[38;5;241m.\u001b[39mexecute_with_cancellation(\n\u001b[0;32m   1466\u001b[0m       name\u001b[38;5;241m.\u001b[39mdecode(\u001b[38;5;124m\"\u001b[39m\u001b[38;5;124mutf-8\u001b[39m\u001b[38;5;124m\"\u001b[39m),\n\u001b[0;32m   1467\u001b[0m       num_outputs\u001b[38;5;241m=\u001b[39mnum_outputs,\n\u001b[1;32m   (...)\u001b[0m\n\u001b[0;32m   1471\u001b[0m       cancellation_manager\u001b[38;5;241m=\u001b[39mcancellation_context,\n\u001b[0;32m   1472\u001b[0m   )\n",
      "File \u001b[1;32mc:\\Users\\hp\\AppData\\Local\\Programs\\Python\\Python38\\lib\\site-packages\\tensorflow\\python\\eager\\execute.py:53\u001b[0m, in \u001b[0;36mquick_execute\u001b[1;34m(op_name, num_outputs, inputs, attrs, ctx, name)\u001b[0m\n\u001b[0;32m     51\u001b[0m \u001b[38;5;28;01mtry\u001b[39;00m:\n\u001b[0;32m     52\u001b[0m   ctx\u001b[38;5;241m.\u001b[39mensure_initialized()\n\u001b[1;32m---> 53\u001b[0m   tensors \u001b[38;5;241m=\u001b[39m \u001b[43mpywrap_tfe\u001b[49m\u001b[38;5;241;43m.\u001b[39;49m\u001b[43mTFE_Py_Execute\u001b[49m\u001b[43m(\u001b[49m\u001b[43mctx\u001b[49m\u001b[38;5;241;43m.\u001b[39;49m\u001b[43m_handle\u001b[49m\u001b[43m,\u001b[49m\u001b[43m \u001b[49m\u001b[43mdevice_name\u001b[49m\u001b[43m,\u001b[49m\u001b[43m \u001b[49m\u001b[43mop_name\u001b[49m\u001b[43m,\u001b[49m\n\u001b[0;32m     54\u001b[0m \u001b[43m                                      \u001b[49m\u001b[43minputs\u001b[49m\u001b[43m,\u001b[49m\u001b[43m \u001b[49m\u001b[43mattrs\u001b[49m\u001b[43m,\u001b[49m\u001b[43m \u001b[49m\u001b[43mnum_outputs\u001b[49m\u001b[43m)\u001b[49m\n\u001b[0;32m     55\u001b[0m \u001b[38;5;28;01mexcept\u001b[39;00m core\u001b[38;5;241m.\u001b[39m_NotOkStatusException \u001b[38;5;28;01mas\u001b[39;00m e:\n\u001b[0;32m     56\u001b[0m   \u001b[38;5;28;01mif\u001b[39;00m name \u001b[38;5;129;01mis\u001b[39;00m \u001b[38;5;129;01mnot\u001b[39;00m \u001b[38;5;28;01mNone\u001b[39;00m:\n",
      "\u001b[1;31mKeyboardInterrupt\u001b[0m: "
     ]
    }
   ],
   "source": [
    "Output_net_Adera3a=Output_net_Adera3.reshape(7058, 20)\n",
    "from keras.callbacks import EarlyStopping\n",
    "from tensorflow.keras.layers import Dense, Dropout, BatchNormalization, Conv2D\n",
    "from tensorflow.keras.metrics import SpecificityAtSensitivity, AUC\n",
    "import tensorflow as tf\n",
    "\n",
    "# Define callbacks\n",
    "es_ADERA = EarlyStopping(monitor='val_accuracy', mode='max', verbose=1, patience=300)\n",
    "\n",
    "# Define the model\n",
    "grace_model = tf.keras.Sequential([\n",
    "    Dense(256, activation='relu'),\n",
    "    Dense(256, activation='relu'),\n",
    "    Dense(256, activation='elu'),\n",
    "    Dense(256, activation='relu'),\n",
    "    Conv2D(filters=22, kernel_size=8, strides=1, padding=\"same\"),\n",
    "    Dense(256, activation='relu'),\n",
    "    Dropout(0.5),\n",
    "    Dense(20, activation='softmax'),  # Output a vector of size 20\n",
    "    tf.keras.layers.Reshape((1, 20)),  # Reshape to (1, 20)\n",
    "    tf.keras.layers.Flatten(),\n",
    "])\n",
    "\n",
    "# Compile the model\n",
    "optimizer_Adera = tf.keras.optimizers.Adamax(learning_rate=2 * 1e-2, clipnorm=0.08)\n",
    "grace_model.compile(optimizer=optimizer_Adera, loss='CategoricalFocalCrossentropy', metrics=['accuracy', SpecificityAtSensitivity(0.5), AUC()])\n",
    "\n",
    "\n",
    "# Train the model\n",
    "k_adera = grace_model.fit(Input_Adera_numpy2, Output_net_Adera3a, verbose=1, validation_split=0.40, epochs=150, batch_size=250, callbacks=[es_ADERA])\n"
   ]
  },
  {
   "cell_type": "code",
   "execution_count": 1,
   "metadata": {
    "colab": {
     "base_uri": "https://localhost:8080/"
    },
    "executionInfo": {
     "elapsed": 1711,
     "status": "ok",
     "timestamp": 1720267018451,
     "user": {
      "displayName": "michel mickael",
      "userId": "03847140515933130607"
     },
     "user_tz": -120
    },
    "id": "cOntJmQ-QmWO",
    "outputId": "dc0f3785-b604-4a4b-a17e-41bc29ff47ac"
   },
   "outputs": [
    {
     "ename": "NameError",
     "evalue": "name 'grace_model' is not defined",
     "output_type": "error",
     "traceback": [
      "\u001b[1;31m---------------------------------------------------------------------------\u001b[0m",
      "\u001b[1;31mNameError\u001b[0m                                 Traceback (most recent call last)",
      "Cell \u001b[1;32mIn[1], line 1\u001b[0m\n\u001b[1;32m----> 1\u001b[0m kr_adera\u001b[38;5;241m=\u001b[39m\u001b[43mgrace_model\u001b[49m\u001b[38;5;241m.\u001b[39mpredict(Input_Adera_numpy2[\u001b[38;5;241m5\u001b[39m]\u001b[38;5;241m.\u001b[39mreshape(\u001b[38;5;241m1\u001b[39m,\u001b[38;5;241m1\u001b[39m,\u001b[38;5;241m1\u001b[39m,\u001b[38;5;241m6\u001b[39m))\n\u001b[0;32m      2\u001b[0m \u001b[38;5;28mtype\u001b[39m(kr_adera)\n",
      "\u001b[1;31mNameError\u001b[0m: name 'grace_model' is not defined"
     ]
    }
   ],
   "source": [
    "kr_adera=grace_model.predict(Input_Adera_numpy2[5].reshape(1,1,1,6))\n",
    "type(kr_adera)"
   ]
  },
  {
   "cell_type": "code",
   "execution_count": 2,
   "metadata": {
    "colab": {
     "base_uri": "https://localhost:8080/"
    },
    "executionInfo": {
     "elapsed": 41084,
     "status": "ok",
     "timestamp": 1720267063117,
     "user": {
      "displayName": "michel mickael",
      "userId": "03847140515933130607"
     },
     "user_tz": -120
    },
    "id": "822s3JwkNUYj",
    "outputId": "a45348e0-a5dc-4c58-eea1-9776257bd36b"
   },
   "outputs": [
    {
     "ename": "NameError",
     "evalue": "name 'Input_Adera_numpy2' is not defined",
     "output_type": "error",
     "traceback": [
      "\u001b[1;31m---------------------------------------------------------------------------\u001b[0m",
      "\u001b[1;31mNameError\u001b[0m                                 Traceback (most recent call last)",
      "Cell \u001b[1;32mIn[2], line 2\u001b[0m\n\u001b[0;32m      1\u001b[0m \u001b[38;5;28;01mimport\u001b[39;00m \u001b[38;5;21;01mshap\u001b[39;00m\n\u001b[1;32m----> 2\u001b[0m background_data \u001b[38;5;241m=\u001b[39m \u001b[43mInput_Adera_numpy2\u001b[49m[:\u001b[38;5;241m100\u001b[39m]  \u001b[38;5;66;03m# Use a subset of your data as background for SHAP\u001b[39;00m\n\u001b[0;32m      4\u001b[0m \u001b[38;5;66;03m# Create a SHAP DeepExplainer\u001b[39;00m\n\u001b[0;32m      5\u001b[0m adera_explainer\u001b[38;5;241m=\u001b[39mshap\u001b[38;5;241m.\u001b[39mDeepExplainer(grace_model, background_data)\n",
      "\u001b[1;31mNameError\u001b[0m: name 'Input_Adera_numpy2' is not defined"
     ]
    }
   ],
   "source": [
    "import shap\n",
    "background_data = Input_Adera_numpy2[:100]  # Use a subset of your data as background for SHAP\n",
    "\n",
    "# Create a SHAP DeepExplainer\n",
    "adera_explainer=shap.DeepExplainer(grace_model, background_data)\n",
    "instances_to_explain = Input_Adera_numpy2[:10]  # Example: First 10 instances\n",
    "\n",
    "# Compute SHAP values\n",
    "shap_values = adera_explainer.shap_values(instances_to_explain)\n",
    "\n"
   ]
  },
  {
   "cell_type": "code",
   "execution_count": null,
   "metadata": {
    "collapsed": true,
    "executionInfo": {
     "elapsed": 6,
     "status": "ok",
     "timestamp": 1720267063118,
     "user": {
      "displayName": "michel mickael",
      "userId": "03847140515933130607"
     },
     "user_tz": -120
    },
    "id": "zcMJskFLUEik",
    "jupyter": {
     "outputs_hidden": true
    }
   },
   "outputs": [],
   "source": [
    "adera_instances=instances_to_explain.reshape(10,6)\n",
    "adera_shap_values=shap_values.reshape(10,6,20)"
   ]
  },
  {
   "cell_type": "code",
   "execution_count": null,
   "metadata": {
    "colab": {
     "base_uri": "https://localhost:8080/",
     "height": 1000
    },
    "executionInfo": {
     "elapsed": 10784,
     "status": "ok",
     "timestamp": 1720267081570,
     "user": {
      "displayName": "michel mickael",
      "userId": "03847140515933130607"
     },
     "user_tz": -120
    },
    "id": "MX2xil-uT99s",
    "outputId": "ae55153f-d708-4fcd-b735-58217546c8d9"
   },
   "outputs": [
    {
     "data": {
      "image/png": "[encoded data removed]",
      "text/plain": [
       "<Figure size 1200x2400 with 20 Axes>"
      ]
     },
     "metadata": {},
     "output_type": "display_data"
    }
   ],
   "source": [
    "# Plotting\n",
    "fig, axs = plt.subplots(nrows=10, ncols=2, figsize=(12, 24))\n",
    "\n",
    "for i in range(10):\n",
    "    # Plot your instances_to_explain (input data)\n",
    "    axs[i, 0].bar(np.arange(len(adera_instances[i])), adera_instances[i])\n",
    "    axs[i, 0].set_title(f'Instance {i+1}')\n",
    "\n",
    "    # Plot SHAP values for each feature\n",
    "    axs[i, 1].bar(np.arange(len(adera_shap_values[i])), adera_shap_values[i].mean(axis=1))\n",
    "    axs[i, 1].set_title(f'SHAP Values - Instance {i+1}')\n",
    "\n",
    "plt.tight_layout()\n",
    "plt.show()"
   ]
  },
  {
   "cell_type": "code",
   "execution_count": null,
   "metadata": {
    "colab": {
     "base_uri": "https://localhost:8080/",
     "height": 1000
    },
    "executionInfo": {
     "elapsed": 8636,
     "status": "ok",
     "timestamp": 1720267095345,
     "user": {
      "displayName": "michel mickael",
      "userId": "03847140515933130607"
     },
     "user_tz": -120
    },
    "id": "4ZdevuAiZmf1",
    "outputId": "d2326df5-35ad-44a7-abbe-4d984f11d83a"
   },
   "outputs": [],
   "source": [
    "import numpy as np\n",
    "import matplotlib.pyplot as plt\n",
    "\n",
    "# Assuming adera_shap_values is correctly computed and reshaped to (10, 8, 20)\n",
    "\n",
    "# Plotting\n",
    "fig, axs = plt.subplots(nrows=10, ncols=3, figsize=(18, 24))  # Increased ncols for the boxplot\n",
    "\n",
    "# Plot individual instances and SHAP values\n",
    "for i in range(10):\n",
    "    # Plot your instances_to_explain (input data)\n",
    "    axs[i, 0].bar(np.arange(len(adera_instances[i])), adera_instances[i])\n",
    "    axs[i, 0].set_title(f'Instance {i+1}')\n",
    "\n",
    "    # Plot SHAP values for each feature\n",
    "    axs[i, 1].bar(np.arange(len(adera_shap_values[i])), adera_shap_values[i].mean(axis=1))\n",
    "    axs[i, 1].set_title(f'SHAP Values - Instance {i+1}')\n",
    "\n",
    "    # Boxplot of SHAP values across instances for each feature\n",
    "    axs[i, 2].boxplot(adera_shap_values[:, :, i].flatten())\n",
    "    axs[i, 2].set_title(f'Boxplot of SHAP Values - Feature {i+1}')\n",
    "\n",
    "plt.tight_layout()\n",
    "plt.show()\n"
   ]
  },
  {
   "cell_type": "code",
   "execution_count": null,
   "metadata": {
    "colab": {
     "base_uri": "https://localhost:8080/",
     "height": 807
    },
    "executionInfo": {
     "elapsed": 1096,
     "status": "ok",
     "timestamp": 1720267101787,
     "user": {
      "displayName": "michel mickael",
      "userId": "03847140515933130607"
     },
     "user_tz": -120
    },
    "id": "Vc4zzxd1ZGa2",
    "outputId": "c624adf1-595a-4a29-b307-58267b8816b0"
   },
   "outputs": [
    {
     "data": {
      "image/png": "[encoded data removed]",
      "text/plain": [
       "<Figure size 1800x800 with 1 Axes>"
      ]
     },
     "metadata": {},
     "output_type": "display_data"
    }
   ],
   "source": [
    "import numpy as np\n",
    "import matplotlib.pyplot as plt\n",
    "\n",
    "# Assuming adera_shap_values is correctly computed and reshaped to (10, 8, 20)\n",
    "\n",
    "# Prepare data for boxplot\n",
    "data_for_boxplot = []\n",
    "for feature_idx in range(adera_shap_values.shape[1]):\n",
    "    feature_data = []\n",
    "    for instance_idx in range(adera_shap_values.shape[0]):\n",
    "        feature_data.extend(adera_shap_values[instance_idx, feature_idx, :])\n",
    "    data_for_boxplot.append(feature_data)\n",
    "\n",
    "# Plotting\n",
    "fig, axs = plt.subplots(figsize=(18, 8))\n",
    "\n",
    "# Create boxplot for all features\n",
    "axs.boxplot(data_for_boxplot, widths=0.6, showmeans=True)\n",
    "axs.set_xticklabels([f'Feature {i+1}' for i in range(len(data_for_boxplot))])\n",
    "axs.set_xlabel('Feature')\n",
    "axs.set_ylabel('SHAP Value')\n",
    "axs.set_title('Boxplot of SHAP Values across Features')\n",
    "\n",
    "plt.grid(True)\n",
    "plt.tight_layout()\n",
    "plt.show()\n",
    "\n",
    "\n"
   ]
  },
  {
   "cell_type": "code",
   "execution_count": null,
   "metadata": {
    "colab": {
     "base_uri": "https://localhost:8080/",
     "height": 397
    },
    "executionInfo": {
     "elapsed": 912,
     "status": "ok",
     "timestamp": 1720268516335,
     "user": {
      "displayName": "michel mickael",
      "userId": "03847140515933130607"
     },
     "user_tz": -120
    },
    "id": "-qjqMwu0bI53",
    "outputId": "e74e25aa-a095-4597-a43a-8c6144f94b93"
   },
   "outputs": [
    {
     "data": {
      "image/png": "[encoded data removed]",
      "text/plain": [
       "<Figure size 800x390 with 2 Axes>"
      ]
     },
     "metadata": {},
     "output_type": "display_data"
    }
   ],
   "source": [
    "import shap\n",
    "selected_shap_values_adera = adera_shap_values[:, :, 19]\n",
    "\n",
    "# Generate the summary plot\n",
    "shap.summary_plot(selected_shap_values_adera, adera_instances)\n"
   ]
  },
  {
   "cell_type": "code",
   "execution_count": null,
   "metadata": {
    "colab": {
     "base_uri": "https://localhost:8080/"
    },
    "executionInfo": {
     "elapsed": 1000,
     "status": "ok",
     "timestamp": 1709735697848,
     "user": {
      "displayName": "michel mickael",
      "userId": "03847140515933130607"
     },
     "user_tz": -60
    },
    "id": "FpEqZESoChW9",
    "outputId": "07d35280-cd29-4ae9-e4ad-1765d09c5dcf"
   },
   "outputs": [
    {
     "name": "stdout",
     "output_type": "stream",
     "text": [
      "1/1 [==============================] - 0s 28ms/step\n",
      "1/1 [==============================] - 0s 29ms/step\n",
      "1/1 [==============================] - 0s 27ms/step\n",
      "1/1 [==============================] - 0s 30ms/step\n",
      "1/1 [==============================] - 0s 30ms/step\n",
      "1/1 [==============================] - 0s 31ms/step\n",
      "1/1 [==============================] - 0s 29ms/step\n",
      "1/1 [==============================] - 0s 30ms/step\n",
      "1/1 [==============================] - 0s 29ms/step\n",
      "1/1 [==============================] - 0s 19ms/step\n",
      "0\n"
     ]
    }
   ],
   "source": [
    "\n",
    "first_data_adera3[\"Cancer_type\"].unique()\n",
    "data_adera= {\n",
    "    \"types\":first_data_adera3[\"Cancer_type\"].unique(),\n",
    "    #\"values\": [0, 1,2,3]\n",
    "}\n",
    "\n",
    "data_adera1=pd.DataFrame(data_adera)\n",
    "data_adera1\n",
    "\n",
    "\n",
    "\n",
    "import random\n",
    "#from np_utils import to_categorical\n",
    "\n",
    "adera_accuracy=[]\n",
    "num_runs = 1\n",
    "accuracies = []\n",
    "y_true_adera=[]\n",
    "y_pred_adera=[]\n",
    " # print(adera_test)\n",
    "#Input_Adera_numpy2[adera_test].shape\n",
    "#data_adera\n",
    "\n",
    "\n",
    "for i in range(0,10):\n",
    "    adera_test1 = [random.randint(0, Adera_chromosome4.shape[0]-1) for _ in range(1)]\n",
    "    test_mac = Input_Adera_numpy2[adera_test1].reshape(1, 1, 1, 8)\n",
    "    #print(test_mac)\n",
    "    # adera_result = adera_47_40_model.predict(test_mac)\n",
    "    adera_result = grace_model.predict(test_mac)\n",
    "    #print(\"adera_result=\",adera_result)\n",
    "    adera_result1=adera_result.reshape(20,)\n",
    "    #print(len(adera_result))\n",
    "    #adera_result_pred_index=np.argmax(adera_result) #how to make  threshold\n",
    "    import heapq\n",
    "    kr5=heapq.nlargest(20, range(len(adera_result1)),adera_result.take)\n",
    "    #print(kr5[1])\n",
    "    adera_result_pred_index=kr5[0]\n",
    "    #print(\"predcited_adera=\",data_adera1['types'][adera_result_pred_index]) #is this right?\n",
    "    #print(\"real_value=\",first_data_adera4['Cancer_type'].iloc[adera_test1])\n",
    "    y_true_adera.append(first_data_adera3['Cancer_type'].iloc[adera_test1])\n",
    "    y_pred_adera.append(data_adera1['types'][adera_result_pred_index])\n",
    "    results_compare_adera= { \"true\":y_true_adera, \"predict_adera\": y_pred_adera}\n",
    "    results_compare_adera1=pd.DataFrame(results_compare_adera)\n",
    "\n",
    "adera_counter=0\n",
    "for i in range(0,len(results_compare_adera1)):\n",
    "    if results_compare_adera1['true'][i].iloc()[0]== results_compare_adera1['predict_adera'][i]:\n",
    "        adera_counter=adera_counter+1\n",
    "\n",
    "print(adera_counter)"
   ]
  },
  {
   "cell_type": "code",
   "execution_count": null,
   "metadata": {
    "colab": {
     "base_uri": "https://localhost:8080/"
    },
    "executionInfo": {
     "elapsed": 2179,
     "status": "ok",
     "timestamp": 1689665793535,
     "user": {
      "displayName": "michel mickael",
      "userId": "03847140515933130607"
     },
     "user_tz": -120
    },
    "id": "KBgPRJIlpe-J",
    "outputId": "95019ada-2aff-4681-f0ef-8e4a666d004c"
   },
   "outputs": [
    {
     "name": "stderr",
     "output_type": "stream",
     "text": [
      "WARNING:absl:Found untraced functions such as _jit_compiled_convolution_op, _update_step_xla while saving (showing 2 of 2). These functions will not be directly callable after loading.\n"
     ]
    }
   ],
   "source": [
    "grace_model.save(\"adera+87+90+20+conv2d\")\n",
    "\n"
   ]
  },
  {
   "cell_type": "code",
   "execution_count": null,
   "metadata": {
    "id": "ItMjjFZtlC2V"
   },
   "outputs": [],
   "source": [
    "#first_data_adera4[\"Is Cancer Gene (source: OncoKB)\"].unique()\n",
    "#first_data_adera4[\"Cancer_type\"].unique()\n",
    "#adera_47_40_model = tf.keras.saving.load_model(\"adera+87+90+20+conv2d\")"
   ]
  },
  {
   "cell_type": "code",
   "execution_count": null,
   "metadata": {
    "colab": {
     "base_uri": "https://localhost:8080/",
     "height": 220
    },
    "executionInfo": {
     "elapsed": 4456,
     "status": "error",
     "timestamp": 1709738316697,
     "user": {
      "displayName": "michel mickael",
      "userId": "03847140515933130607"
     },
     "user_tz": -60
    },
    "id": "EGN-p6SJpDQB",
    "outputId": "664c14b4-84c4-4f40-90e0-bfc71c8c7f1c"
   },
   "outputs": [
    {
     "ename": "NameError",
     "evalue": "name 'Input_Adera_numpy2' is not defined",
     "output_type": "error",
     "traceback": [
      "\u001b[0;31m---------------------------------------------------------------------------\u001b[0m",
      "\u001b[0;31mNameError\u001b[0m                                 Traceback (most recent call last)",
      "\u001b[0;32m<ipython-input-1-fb3ac0648e91>\u001b[0m in \u001b[0;36m<cell line: 30>\u001b[0;34m()\u001b[0m\n\u001b[1;32m     52\u001b[0m \u001b[0;34m\u001b[0m\u001b[0m\n\u001b[1;32m     53\u001b[0m                 k_adera = grace_model.fit(\n\u001b[0;32m---> 54\u001b[0;31m                     \u001b[0mInput_Adera_numpy2\u001b[0m\u001b[0;34m,\u001b[0m \u001b[0mOutput_net_Adera3\u001b[0m\u001b[0;34m,\u001b[0m\u001b[0;34m\u001b[0m\u001b[0;34m\u001b[0m\u001b[0m\n\u001b[0m\u001b[1;32m     55\u001b[0m                     \u001b[0mverbose\u001b[0m\u001b[0;34m=\u001b[0m\u001b[0;36m0\u001b[0m\u001b[0;34m,\u001b[0m \u001b[0mvalidation_split\u001b[0m\u001b[0;34m=\u001b[0m\u001b[0mvalidation_split\u001b[0m\u001b[0;34m,\u001b[0m \u001b[0mepochs\u001b[0m\u001b[0;34m=\u001b[0m\u001b[0;36m100\u001b[0m\u001b[0;34m,\u001b[0m \u001b[0mbatch_size\u001b[0m\u001b[0;34m=\u001b[0m\u001b[0mbatch_size\u001b[0m\u001b[0;34m,\u001b[0m\u001b[0;34m\u001b[0m\u001b[0;34m\u001b[0m\u001b[0m\n\u001b[1;32m     56\u001b[0m                     \u001b[0mcallbacks\u001b[0m\u001b[0;34m=\u001b[0m\u001b[0;34m[\u001b[0m\u001b[0mes_ADERA\u001b[0m\u001b[0;34m]\u001b[0m\u001b[0;34m\u001b[0m\u001b[0;34m\u001b[0m\u001b[0m\n",
      "\u001b[0;31mNameError\u001b[0m: name 'Input_Adera_numpy2' is not defined"
     ]
    }
   ],
   "source": [
    "import tensorflow as tf\n",
    "from tensorflow import keras\n",
    "import matplotlib.pyplot as plt\n",
    "import numpy as np\n",
    "#learning_rate=2*1e-2, clipnorm = .08\n",
    "# Define the grid of hyperparameters to search\n",
    "\n",
    "batch_sizes = [400]#+#,100 , 150, 200,250,300,350,400,450,500,600,700,800]\n",
    "learning_rates = [0.002]#0.00002, 2*1e-4, 2*1e-3, 2*1e-2]\n",
    "\n",
    "clip_norms = [0.08]#,  0.08,0.12,0.16,0.2]\n",
    "validation_splits = [0.4]#, 0.4, 0.7, 0.9]\n",
    "\n",
    "best_validation_loss = float('inf')\n",
    "best_validation_accuracy = 0.0\n",
    "best_batch_size = None\n",
    "best_learning_rate = None\n",
    "best_clip_norm = None\n",
    "best_validation_split = None\n",
    "\n",
    "# Lists to store results\n",
    "batch_sizes_results = []\n",
    "learning_rates_results = []\n",
    "clip_norms_results = []\n",
    "validation_splits_results = []\n",
    "validation_accuracy_results = []\n",
    "validation_loss_results = []\n",
    "\n",
    "# Perform the grid search\n",
    "for batch_size in batch_sizes:\n",
    "    for learning_rate in learning_rates:\n",
    "        for clip_norm in clip_norms:\n",
    "            for validation_split in validation_splits:\n",
    "                grace_model = tf.keras.Sequential([\n",
    "             tf.keras.layers.Dense(256, activation='relu'),\n",
    "\n",
    "\n",
    "   tf.keras.layers.Dense(256, activation='relu'),\n",
    " # tf.keras.layers.Conv2D(filters=22, kernel_size=8, strides=1, padding=\"same\"),\n",
    "tf.keras.layers.Conv2D(filters=22, kernel_size=8, strides=1, padding=\"same\"),\n",
    "     tf.keras.layers.Dense(256, activation='relu'),\n",
    "  #tf.keras.layers.Dense(22, activation='sigmoid'),\n",
    "  tf.keras.layers.Dropout(0.5),\n",
    "tf.keras.layers.Dense(20, activation='softmax'),\n",
    "                ])\n",
    "\n",
    "                optimizer_Adera = tf.keras.optimizers.Adam(learning_rate=learning_rate, clipnorm=clip_norm)\n",
    "                grace_model.compile(optimizer=optimizer_Adera, loss='categorical_crossentropy', metrics=['accuracy'])\n",
    "\n",
    "                #es_ADERA = tf.keras.callbacks.EarlyStopping(monitor='val_loss', mode='min', verbose=1, patience=10)\n",
    "                es_ADERA = tf.keras.callbacks.EarlyStopping(monitor='val_accuracy', mode='max', verbose=0, patience=300)\n",
    "\n",
    "                k_adera = grace_model.fit(\n",
    "                    Input_Adera_numpy2, Output_net_Adera3,\n",
    "                    verbose=0, validation_split=validation_split, epochs=100, batch_size=batch_size,\n",
    "                    callbacks=[es_ADERA]\n",
    "                )\n",
    "\n",
    "                # Check if the current hyperparameters yield better validation loss or accuracy\n",
    "                current_validation_loss = k_adera.history['val_loss'][-1]\n",
    "                current_validation_accuracy = k_adera.history['val_accuracy'][-1]\n",
    "\n",
    "                if current_validation_loss < best_validation_loss and current_validation_accuracy > best_validation_accuracy:\n",
    "                    best_validation_loss = current_validation_loss\n",
    "                    best_validation_accuracy = current_validation_accuracy\n",
    "                    best_batch_size = batch_size\n",
    "                    best_learning_rate = learning_rate\n",
    "                    best_clip_norm = clip_norm\n",
    "                    best_validation_split = validation_split\n",
    "\n",
    "                # Store results\n",
    "                batch_sizes_results.append(batch_size)\n",
    "                learning_rates_results.append(learning_rate)\n",
    "                clip_norms_results.append(clip_norm)\n",
    "                validation_splits_results.append(validation_split)\n",
    "                validation_accuracy_results.append(current_validation_accuracy)\n",
    "                validation_loss_results.append(current_validation_loss)\n",
    "\n",
    "# Print the best hyperparameters found\n",
    "print(\"Best Batch Size:\", best_batch_size)\n",
    "print(\"Best Learning Rate:\", best_learning_rate)\n",
    "print(\"Best Clip Norm:\", best_clip_norm)\n",
    "print(\"Best Validation Split:\", best_validation_split)\n",
    "print(\"Best Validation Accuracy:\", best_validation_accuracy)\n",
    "print(\"Best Validation Loss:\", best_validation_loss)\n",
    "\n"
   ]
  },
  {
   "cell_type": "code",
   "execution_count": null,
   "metadata": {
    "id": "k5GI4tK_2XZX"
   },
   "outputs": [],
   "source": [
    "batch_sizes_normalized = np.array(batch_sizes_results) / max(batch_sizes)\n",
    "learning_rates_normalized = np.array(learning_rates_results) / max(learning_rates)\n",
    "clip_norms_normalized = np.array(clip_norms_results) / max(clip_norms)\n",
    "validation_splits_normalized = np.array(validation_splits_results) / max(validation_splits)\n",
    "\n",
    "# Plotting the results\n",
    "#plt.figure(figsize=(12, 6))\n",
    "#plt.errorbar(batch_sizes_normalized, validation_accuracy_results, fmt='o', color='b', label='Validation Accuracy')\n",
    "#plt.xticks([0.25, 0.5, 0.75, 1.0], ['Batch Size', 'Learning Rate', 'Clip Norm', 'Validation Split'])\n",
    "#plt.xlabel('Hyperparameters')\n",
    "#plt.ylabel('Validation Accuracy')\n",
    "#plt.title('Hyperparameters vs. Validation Accuracy')\n",
    "#plt.legend()\n",
    "#plt.grid(True)\n",
    "#plt.show()\n",
    "\n",
    "plt.figure()\n",
    "plt.plot(validation_accuracy_results,batch_sizes_normalized,'o')\n",
    "plt.show()"
   ]
  },
  {
   "cell_type": "code",
   "execution_count": null,
   "metadata": {
    "id": "DgWE83kRFKvm"
   },
   "outputs": [],
   "source": [
    "plt.figure()\n",
    "plt.plot( batch_sizes_normalized, validation_accuracy_results,'o', label='Batch Size')\n",
    "plt.plot( learning_rates_normalized, validation_accuracy_results,'o', label='Learning Rate')\n",
    "plt.plot( clip_norms_normalized,validation_accuracy_results, 'o', label='Clip Norm')\n",
    "plt.plot( validation_splits_normalized,validation_accuracy_results, 'o', label='Validation Split')\n",
    "plt.ylabel('Validation Accuracy')\n",
    "plt.xlabel('Hyperparameters')\n",
    "plt.title('Validation Accuracy vs. Hyperparameters')\n",
    "plt.legend(loc='center left', bbox_to_anchor=(1, 0.5))\n",
    "plt.ylim(0, 1)\n",
    "plt.grid(True)\n",
    "plt.show()\n"
   ]
  }
 ],
 "metadata": {
  "accelerator": "GPU",
  "colab": {
   "authorship_tag": "ABX9TyN2QEeznXe8QzQml+o+YOyn",
   "gpuType": "T4",
   "provenance": [
    {
     "file_id": "17crUh0NQittV9S_dnpprcz3zQSHdTG7j",
     "timestamp": 1719484480958
    },
    {
     "file_id": "1lI3NhNlksj1jFtUjD6-Wmq3c6EFr7c4T",
     "timestamp": 1709738444410
    },
    {
     "file_id": "1jdRoj6zxJFDBdq2itCYgNyRDiXIU8urB",
     "timestamp": 1709732935345
    },
    {
     "file_id": "1vXbFNuYNZAvHoU2SHBfyru8_x57ChCYY",
     "timestamp": 1691147403062
    },
    {
     "file_id": "1WPkThmEV6FRyMrjeUu8XLesPuQhleP62",
     "timestamp": 1689578679739
    },
    {
     "file_id": "1Ot5JI16jCxhBTl1dGuoerpGW4cjq-klj",
     "timestamp": 1688985314900
    },
    {
     "file_id": "1WF69YnjtyePWDKoRvRCgYUZDDhLNXE73",
     "timestamp": 1688817741116
    },
    {
     "file_id": "1AwQQ78Dqb0rpho99tPzd0sKQhkhtje-J",
     "timestamp": 1688729798080
    },
    {
     "file_id": "15eB-1fS4QdHLbBKkUVuq0ntiZapglBRt",
     "timestamp": 1688651310760
    },
    {
     "file_id": "1IndcJDVHxgUd8SwkQ5G4OZrJJnd7WQEr",
     "timestamp": 1688641736209
    },
    {
     "file_id": "12kwtKa8NN8E8i51Y9UY6ExjiJwVE6kiY",
     "timestamp": 1688564686484
    },
    {
     "file_id": "13fGdkuf6EGXIlgX-4hyNPS6fWmtheYNZ",
     "timestamp": 1688047143768
    },
    {
     "file_id": "1s6X-fHRl_gSoHtNmPtP4FqlHyv0vZxUF",
     "timestamp": 1684142015699
    },
    {
     "file_id": "1S4WFQoS4uRrrsejYJ7k3foIpRV97Bk4M",
     "timestamp": 1683813120077
    }
   ]
  },
  "kernelspec": {
   "display_name": "Python 3",
   "name": "python3"
  },
  "language_info": {
   "codemirror_mode": {
    "name": "ipython",
    "version": 3
   },
   "file_extension": ".py",
   "mimetype": "text/x-python",
   "name": "python",
   "nbconvert_exporter": "python",
   "pygments_lexer": "ipython3",
   "version": "3.8.0"
  }
 },
 "nbformat": 4,
 "nbformat_minor": 4
}
